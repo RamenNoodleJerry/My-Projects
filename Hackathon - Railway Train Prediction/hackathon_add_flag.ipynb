{
  "cells": [
    {
      "cell_type": "markdown",
      "metadata": {
        "id": "Lw4iEXRHjigq"
      },
      "source": [
        "### **Context**\n",
        "\n",
        "This problem statement is based on the Shinkansen Bullet Train in Japan, and passengers’ experience with that mode of travel. This machine learning exercise aims to determine the relative importance of each parameter with regards to their contribution to the passengers’ overall travel experience. The dataset contains a random sample of individuals who traveled on this train. The on-time performance of the trains along with passenger information is published in a file named **‘Traveldata_train.csv’**.  These passengers were later asked to provide their feedback on various parameters related to the travel along with their overall experience. These collected details are made available in the survey report labeled **‘Surveydata_train.csv’**.\n",
        "\n",
        "In the survey, each passenger was explicitly asked whether they were satisfied with their overall travel experience or not, and that is captured in the data of the survey report under the variable labeled **‘Overall_Experience’**. \n",
        "\n",
        "The objective of this problem is to understand which parameters play an important role in swaying passenger feedback towards a positive scale. You are provided test data containing the travel data and the survey data of passengers. Both the test data and the train data are collected at the same time and belong to the same population."
      ]
    },
    {
      "cell_type": "markdown",
      "metadata": {
        "id": "mzcQ-Lutgfck"
      },
      "source": [
        "### **Goal:**\n",
        "The goal of the problem is to predict whether a passenger was satisfied or not considering his/her overall experience of traveling on the Shinkansen Bullet Train.\n",
        "\n",
        "### **Dataset:**\n",
        "\n",
        "The problem consists of 2 separate datasets: Travel data & Survey data. Travel data has information related to passengers and attributes related to the Shinkansen train, in which they traveled. The survey data is aggregated data of surveys indicating the post-service experience. You are expected to treat both these datasets as raw data and perform any necessary data cleaning/validation steps as required.\n",
        "\n",
        "The data has been split into two groups and provided in the Dataset folder. The folder contains both train and test data separately.\n",
        "\n",
        "- Train_Data\n",
        "- Test_Data\n",
        "\n",
        "**Target Variable:** Overall_Experience (1 represents ‘satisfied’, and 0 represents ‘not satisfied’)\n",
        "\n",
        "The **training set** can be used to build your machine learning model. The training set has labels for the target column - Overall_Experience.\n",
        "\n",
        "The **testing set** should be used to see how well your model performs on unseen data. For the test set, it is expected to predict the ‘Overall_Experience’ level for each participant.\n",
        "\n",
        "\n",
        "### **Submission File**\n",
        "**Submission File Format:** You will need to submit a CSV file with exactly 35,602 entries plus a header row. The file should have exactly two columns\n",
        "\n",
        "- **ID** The unique ID of the passenger\n",
        "- **Overall_Experience** (contains 0 & 1 values, 1 represents ‘Satisfied’, and 0 represents ‘Not Satisfied’)\n",
        "\n",
        "\n",
        "### **Data Dictionary:**\n",
        "The survey levels are explained below:\n",
        "\n",
        "- **ID**\tThe unique ID of the passenger\tContinuous values like 98800001, 98800002, etc.\n",
        "\n",
        "- **Gender**\tThe gender of the passenger\t\"Male\n",
        "Female\"\n",
        "\n",
        "- **Customer_Type**\tLoyalty type of the passenger\t\"Loyal Customer\n",
        "Disloyal Customer\"\n",
        "\n",
        "- **Age**\tThe age of the passenger\tContinuous values like 48, 52, 9, etc.\n",
        "\n",
        "- **Type_Travel**\tPurpose of travel for the passenger\t\"Personal Travel\n",
        "Business Travel\"\n",
        "- **Travel_Class**   The train class that the passenger traveled in\t\"Business\n",
        "Eco\"\n",
        "\n",
        "- **Travel_Distance** \tThe distance traveled by the passenger\tContinuous values like 272, 780, 853, etc.\n",
        "\n",
        "- **Departure_Delay_in_Mins**\tThe delay (in minutes) in train departure\tContinuous values like 9, 15, 13, etc.\n",
        "\n",
        "- **Arrival_Delay_in_Mins**\tThe delay (in minutes) in train arrival\tContinuous values like 0, 15, 18, etc.\n",
        "\n",
        "### **Evaluation Criteria:**\n",
        "\n",
        "**Accuracy Score:** The evaluation metric is simply the percentage of predictions made by the model that turned out to be correct. This is also called the accuracy of the model. It will be calculated as the total number of correct predictions (True Positives + True Negatives) divided by the total number of observations in the dataset.\n",
        " \n",
        "In other words, the best possible accuracy is 100% (or 1) and the worst possible accuracy 0%. "
      ]
    },
    {
      "cell_type": "code",
      "execution_count": null,
      "metadata": {
        "colab": {
          "base_uri": "https://localhost:8080/"
        },
        "id": "6NTCZ4od8DU7",
        "outputId": "4f014ed2-6970-4b77-c322-827e6e32ca4a"
      },
      "outputs": [
        {
          "output_type": "stream",
          "name": "stdout",
          "text": [
            "Drive already mounted at /content/drive; to attempt to forcibly remount, call drive.mount(\"/content/drive\", force_remount=True).\n"
          ]
        }
      ],
      "source": [
        "from google.colab import drive\n",
        "\n",
        "drive.mount('/content/drive')"
      ]
    },
    {
      "cell_type": "code",
      "execution_count": null,
      "metadata": {
        "id": "7tnu4X8a8rbR"
      },
      "outputs": [],
      "source": [
        "import tensorflow"
      ]
    },
    {
      "cell_type": "code",
      "execution_count": null,
      "metadata": {
        "colab": {
          "base_uri": "https://localhost:8080/"
        },
        "id": "S5wxXihd88PU",
        "outputId": "5507c75c-2ecc-4197-edba-54f09462a75d"
      },
      "outputs": [
        {
          "output_type": "stream",
          "name": "stdout",
          "text": [
            "Looking in indexes: https://pypi.org/simple, https://us-python.pkg.dev/colab-wheels/public/simple/\n",
            "Collecting tensorflow_addons\n",
            "  Downloading tensorflow_addons-0.17.1-cp37-cp37m-manylinux_2_17_x86_64.manylinux2014_x86_64.whl (1.1 MB)\n",
            "\u001b[K     |████████████████████████████████| 1.1 MB 5.1 MB/s \n",
            "\u001b[?25hRequirement already satisfied: packaging in /usr/local/lib/python3.7/dist-packages (from tensorflow_addons) (21.3)\n",
            "Requirement already satisfied: typeguard>=2.7 in /usr/local/lib/python3.7/dist-packages (from tensorflow_addons) (2.7.1)\n",
            "Requirement already satisfied: pyparsing!=3.0.5,>=2.0.2 in /usr/local/lib/python3.7/dist-packages (from packaging->tensorflow_addons) (3.0.9)\n",
            "Installing collected packages: tensorflow-addons\n",
            "Successfully installed tensorflow-addons-0.17.1\n"
          ]
        }
      ],
      "source": [
        "!pip install tensorflow_addons"
      ]
    },
    {
      "cell_type": "code",
      "execution_count": null,
      "metadata": {
        "id": "q1xt-5jd9APH"
      },
      "outputs": [],
      "source": [
        "import numpy as np\n",
        "import pandas as pd\n",
        "import matplotlib.pyplot as plt\n",
        "import seaborn as sns\n",
        "from sklearn.model_selection import train_test_split\n",
        "from sklearn.preprocessing import MinMaxScaler\n",
        "import os\n",
        "import zipfile\n",
        "from PIL import Image\n",
        "# Importing Deep Learning Libraries\n",
        "import tensorflow as tf\n",
        "from tensorflow import keras\n",
        "from tensorflow.keras.models import Sequential\n",
        "from tensorflow.keras import layers\n",
        "import tensorflow_addons as tfa\n",
        "from tensorflow.keras import backend\n",
        "from tensorflow.keras.layers import Dense, Input, Conv2D, MaxPool2D, BatchNormalization,MaxPooling2D\n",
        "from tensorflow.keras.layers import Dropout, Flatten, LeakyReLU,GlobalAveragePooling2D,Activation\n",
        "from tensorflow.keras.layers import LeakyReLU,SeparableConv2D\n",
        "from tensorflow.keras.layers import Embedding,LSTM\n",
        "from tensorflow.keras.losses import categorical_crossentropy\n",
        "from tensorflow.keras.utils import to_categorical\n",
        "from tensorflow.keras.utils import load_img, img_to_array\n",
        "from tensorflow.keras.preprocessing.image import ImageDataGenerator\n",
        "from tensorflow.keras.models import Model, Sequential\n",
        "from tensorflow.keras.optimizers import Adam, SGD, RMSprop\n",
        "from tensorflow.keras.callbacks import EarlyStopping, ModelCheckpoint\n",
        "# To ignore warnings\n",
        "import warnings\n",
        "warnings.filterwarnings('ignore')\n",
        "# Remove the limit from the number of displayed columns and rows. It helps to see the entire dataframe while printing it\n",
        "pd.set_option(\"display.max_columns\", None)\n",
        "pd.set_option(\"display.max_rows\", 200)"
      ]
    },
    {
      "cell_type": "markdown",
      "metadata": {
        "id": "ZNNv-9dO9GQy"
      },
      "source": [
        "Load dataset"
      ]
    },
    {
      "cell_type": "code",
      "execution_count": null,
      "metadata": {
        "id": "oPlOsrZV9H2k"
      },
      "outputs": [],
      "source": [
        "train_travel='/content/drive/MyDrive/Hackathons/Traveldata_train.csv'\n",
        "df_train_travel=pd.read_csv(train_travel)"
      ]
    },
    {
      "cell_type": "code",
      "execution_count": null,
      "metadata": {
        "colab": {
          "base_uri": "https://localhost:8080/"
        },
        "id": "MncJ13uY91jK",
        "outputId": "c2e5cbc1-2eaf-4eaf-906b-90b54e3ce068"
      },
      "outputs": [
        {
          "output_type": "stream",
          "name": "stdout",
          "text": [
            "<class 'pandas.core.frame.DataFrame'>\n",
            "RangeIndex: 94379 entries, 0 to 94378\n",
            "Data columns (total 9 columns):\n",
            " #   Column                   Non-Null Count  Dtype  \n",
            "---  ------                   --------------  -----  \n",
            " 0   ID                       94379 non-null  int64  \n",
            " 1   Gender                   94302 non-null  object \n",
            " 2   Customer_Type            85428 non-null  object \n",
            " 3   Age                      94346 non-null  float64\n",
            " 4   Type_Travel              85153 non-null  object \n",
            " 5   Travel_Class             94379 non-null  object \n",
            " 6   Travel_Distance          94379 non-null  int64  \n",
            " 7   Departure_Delay_in_Mins  94322 non-null  float64\n",
            " 8   Arrival_Delay_in_Mins    94022 non-null  float64\n",
            "dtypes: float64(3), int64(2), object(4)\n",
            "memory usage: 6.5+ MB\n"
          ]
        }
      ],
      "source": [
        "df_train_travel.info()"
      ]
    },
    {
      "cell_type": "code",
      "execution_count": null,
      "metadata": {
        "colab": {
          "base_uri": "https://localhost:8080/",
          "height": 300
        },
        "id": "pFW33ftC96t5",
        "outputId": "b8edd88f-f183-468c-cee5-bdc1fb340532"
      },
      "outputs": [
        {
          "output_type": "execute_result",
          "data": {
            "text/plain": [
              "                 ID           Age  Travel_Distance  Departure_Delay_in_Mins  \\\n",
              "count  9.437900e+04  94346.000000     94379.000000             94322.000000   \n",
              "mean   9.884719e+07     39.419647      1978.888185                14.647092   \n",
              "std    2.724501e+04     15.116632      1027.961019                38.138781   \n",
              "min    9.880000e+07      7.000000        50.000000                 0.000000   \n",
              "25%    9.882360e+07     27.000000      1359.000000                 0.000000   \n",
              "50%    9.884719e+07     40.000000      1923.000000                 0.000000   \n",
              "75%    9.887078e+07     51.000000      2538.000000                12.000000   \n",
              "max    9.889438e+07     85.000000      6951.000000              1592.000000   \n",
              "\n",
              "       Arrival_Delay_in_Mins  \n",
              "count           94022.000000  \n",
              "mean               15.005222  \n",
              "std                38.439409  \n",
              "min                 0.000000  \n",
              "25%                 0.000000  \n",
              "50%                 0.000000  \n",
              "75%                13.000000  \n",
              "max              1584.000000  "
            ],
            "text/html": [
              "\n",
              "  <div id=\"df-9492e3a4-0bce-418f-80e4-863702e203a5\">\n",
              "    <div class=\"colab-df-container\">\n",
              "      <div>\n",
              "<style scoped>\n",
              "    .dataframe tbody tr th:only-of-type {\n",
              "        vertical-align: middle;\n",
              "    }\n",
              "\n",
              "    .dataframe tbody tr th {\n",
              "        vertical-align: top;\n",
              "    }\n",
              "\n",
              "    .dataframe thead th {\n",
              "        text-align: right;\n",
              "    }\n",
              "</style>\n",
              "<table border=\"1\" class=\"dataframe\">\n",
              "  <thead>\n",
              "    <tr style=\"text-align: right;\">\n",
              "      <th></th>\n",
              "      <th>ID</th>\n",
              "      <th>Age</th>\n",
              "      <th>Travel_Distance</th>\n",
              "      <th>Departure_Delay_in_Mins</th>\n",
              "      <th>Arrival_Delay_in_Mins</th>\n",
              "    </tr>\n",
              "  </thead>\n",
              "  <tbody>\n",
              "    <tr>\n",
              "      <th>count</th>\n",
              "      <td>9.437900e+04</td>\n",
              "      <td>94346.000000</td>\n",
              "      <td>94379.000000</td>\n",
              "      <td>94322.000000</td>\n",
              "      <td>94022.000000</td>\n",
              "    </tr>\n",
              "    <tr>\n",
              "      <th>mean</th>\n",
              "      <td>9.884719e+07</td>\n",
              "      <td>39.419647</td>\n",
              "      <td>1978.888185</td>\n",
              "      <td>14.647092</td>\n",
              "      <td>15.005222</td>\n",
              "    </tr>\n",
              "    <tr>\n",
              "      <th>std</th>\n",
              "      <td>2.724501e+04</td>\n",
              "      <td>15.116632</td>\n",
              "      <td>1027.961019</td>\n",
              "      <td>38.138781</td>\n",
              "      <td>38.439409</td>\n",
              "    </tr>\n",
              "    <tr>\n",
              "      <th>min</th>\n",
              "      <td>9.880000e+07</td>\n",
              "      <td>7.000000</td>\n",
              "      <td>50.000000</td>\n",
              "      <td>0.000000</td>\n",
              "      <td>0.000000</td>\n",
              "    </tr>\n",
              "    <tr>\n",
              "      <th>25%</th>\n",
              "      <td>9.882360e+07</td>\n",
              "      <td>27.000000</td>\n",
              "      <td>1359.000000</td>\n",
              "      <td>0.000000</td>\n",
              "      <td>0.000000</td>\n",
              "    </tr>\n",
              "    <tr>\n",
              "      <th>50%</th>\n",
              "      <td>9.884719e+07</td>\n",
              "      <td>40.000000</td>\n",
              "      <td>1923.000000</td>\n",
              "      <td>0.000000</td>\n",
              "      <td>0.000000</td>\n",
              "    </tr>\n",
              "    <tr>\n",
              "      <th>75%</th>\n",
              "      <td>9.887078e+07</td>\n",
              "      <td>51.000000</td>\n",
              "      <td>2538.000000</td>\n",
              "      <td>12.000000</td>\n",
              "      <td>13.000000</td>\n",
              "    </tr>\n",
              "    <tr>\n",
              "      <th>max</th>\n",
              "      <td>9.889438e+07</td>\n",
              "      <td>85.000000</td>\n",
              "      <td>6951.000000</td>\n",
              "      <td>1592.000000</td>\n",
              "      <td>1584.000000</td>\n",
              "    </tr>\n",
              "  </tbody>\n",
              "</table>\n",
              "</div>\n",
              "      <button class=\"colab-df-convert\" onclick=\"convertToInteractive('df-9492e3a4-0bce-418f-80e4-863702e203a5')\"\n",
              "              title=\"Convert this dataframe to an interactive table.\"\n",
              "              style=\"display:none;\">\n",
              "        \n",
              "  <svg xmlns=\"http://www.w3.org/2000/svg\" height=\"24px\"viewBox=\"0 0 24 24\"\n",
              "       width=\"24px\">\n",
              "    <path d=\"M0 0h24v24H0V0z\" fill=\"none\"/>\n",
              "    <path d=\"M18.56 5.44l.94 2.06.94-2.06 2.06-.94-2.06-.94-.94-2.06-.94 2.06-2.06.94zm-11 1L8.5 8.5l.94-2.06 2.06-.94-2.06-.94L8.5 2.5l-.94 2.06-2.06.94zm10 10l.94 2.06.94-2.06 2.06-.94-2.06-.94-.94-2.06-.94 2.06-2.06.94z\"/><path d=\"M17.41 7.96l-1.37-1.37c-.4-.4-.92-.59-1.43-.59-.52 0-1.04.2-1.43.59L10.3 9.45l-7.72 7.72c-.78.78-.78 2.05 0 2.83L4 21.41c.39.39.9.59 1.41.59.51 0 1.02-.2 1.41-.59l7.78-7.78 2.81-2.81c.8-.78.8-2.07 0-2.86zM5.41 20L4 18.59l7.72-7.72 1.47 1.35L5.41 20z\"/>\n",
              "  </svg>\n",
              "      </button>\n",
              "      \n",
              "  <style>\n",
              "    .colab-df-container {\n",
              "      display:flex;\n",
              "      flex-wrap:wrap;\n",
              "      gap: 12px;\n",
              "    }\n",
              "\n",
              "    .colab-df-convert {\n",
              "      background-color: #E8F0FE;\n",
              "      border: none;\n",
              "      border-radius: 50%;\n",
              "      cursor: pointer;\n",
              "      display: none;\n",
              "      fill: #1967D2;\n",
              "      height: 32px;\n",
              "      padding: 0 0 0 0;\n",
              "      width: 32px;\n",
              "    }\n",
              "\n",
              "    .colab-df-convert:hover {\n",
              "      background-color: #E2EBFA;\n",
              "      box-shadow: 0px 1px 2px rgba(60, 64, 67, 0.3), 0px 1px 3px 1px rgba(60, 64, 67, 0.15);\n",
              "      fill: #174EA6;\n",
              "    }\n",
              "\n",
              "    [theme=dark] .colab-df-convert {\n",
              "      background-color: #3B4455;\n",
              "      fill: #D2E3FC;\n",
              "    }\n",
              "\n",
              "    [theme=dark] .colab-df-convert:hover {\n",
              "      background-color: #434B5C;\n",
              "      box-shadow: 0px 1px 3px 1px rgba(0, 0, 0, 0.15);\n",
              "      filter: drop-shadow(0px 1px 2px rgba(0, 0, 0, 0.3));\n",
              "      fill: #FFFFFF;\n",
              "    }\n",
              "  </style>\n",
              "\n",
              "      <script>\n",
              "        const buttonEl =\n",
              "          document.querySelector('#df-9492e3a4-0bce-418f-80e4-863702e203a5 button.colab-df-convert');\n",
              "        buttonEl.style.display =\n",
              "          google.colab.kernel.accessAllowed ? 'block' : 'none';\n",
              "\n",
              "        async function convertToInteractive(key) {\n",
              "          const element = document.querySelector('#df-9492e3a4-0bce-418f-80e4-863702e203a5');\n",
              "          const dataTable =\n",
              "            await google.colab.kernel.invokeFunction('convertToInteractive',\n",
              "                                                     [key], {});\n",
              "          if (!dataTable) return;\n",
              "\n",
              "          const docLinkHtml = 'Like what you see? Visit the ' +\n",
              "            '<a target=\"_blank\" href=https://colab.research.google.com/notebooks/data_table.ipynb>data table notebook</a>'\n",
              "            + ' to learn more about interactive tables.';\n",
              "          element.innerHTML = '';\n",
              "          dataTable['output_type'] = 'display_data';\n",
              "          await google.colab.output.renderOutput(dataTable, element);\n",
              "          const docLink = document.createElement('div');\n",
              "          docLink.innerHTML = docLinkHtml;\n",
              "          element.appendChild(docLink);\n",
              "        }\n",
              "      </script>\n",
              "    </div>\n",
              "  </div>\n",
              "  "
            ]
          },
          "metadata": {},
          "execution_count": 26
        }
      ],
      "source": [
        "df_train_travel.describe()"
      ]
    },
    {
      "cell_type": "code",
      "execution_count": null,
      "metadata": {
        "colab": {
          "base_uri": "https://localhost:8080/"
        },
        "id": "qOHmaNvy-AGY",
        "outputId": "f27c5728-3f44-4233-83e3-7fb1f98961cd"
      },
      "outputs": [
        {
          "output_type": "execute_result",
          "data": {
            "text/plain": [
              "ID                         94379\n",
              "Gender                     94379\n",
              "Customer_Type              94379\n",
              "Age                        94379\n",
              "Type_Travel                94379\n",
              "Travel_Class               94379\n",
              "Travel_Distance            94379\n",
              "Departure_Delay_in_Mins    94379\n",
              "Arrival_Delay_in_Mins      94379\n",
              "dtype: int64"
            ]
          },
          "metadata": {},
          "execution_count": 27
        }
      ],
      "source": [
        "df_train_travel.isnull().count()"
      ]
    },
    {
      "cell_type": "code",
      "execution_count": null,
      "metadata": {
        "id": "ecBBJXbv-Pba"
      },
      "outputs": [],
      "source": [
        "train_survey='/content/drive/MyDrive/Hackathons/Surveydata_train.csv'\n",
        "df_train_survey=pd.read_csv(train_survey)"
      ]
    },
    {
      "cell_type": "code",
      "execution_count": null,
      "metadata": {
        "colab": {
          "base_uri": "https://localhost:8080/"
        },
        "id": "LFWetN-b-jHr",
        "outputId": "93e75023-c820-48bc-85a8-1d1872d1f42a"
      },
      "outputs": [
        {
          "output_type": "stream",
          "name": "stdout",
          "text": [
            "<class 'pandas.core.frame.DataFrame'>\n",
            "RangeIndex: 94379 entries, 0 to 94378\n",
            "Data columns (total 17 columns):\n",
            " #   Column                   Non-Null Count  Dtype \n",
            "---  ------                   --------------  ----- \n",
            " 0   ID                       94379 non-null  int64 \n",
            " 1   Overall_Experience       94379 non-null  int64 \n",
            " 2   Seat_Comfort             94318 non-null  object\n",
            " 3   Seat_Class               94379 non-null  object\n",
            " 4   Arrival_Time_Convenient  85449 non-null  object\n",
            " 5   Catering                 85638 non-null  object\n",
            " 6   Platform_Location        94349 non-null  object\n",
            " 7   Onboard_Wifi_Service     94349 non-null  object\n",
            " 8   Onboard_Entertainment    94361 non-null  object\n",
            " 9   Online_Support           94288 non-null  object\n",
            " 10  Ease_of_Online_Booking   94306 non-null  object\n",
            " 11  Onboard_Service          86778 non-null  object\n",
            " 12  Legroom                  94289 non-null  object\n",
            " 13  Baggage_Handling         94237 non-null  object\n",
            " 14  CheckIn_Service          94302 non-null  object\n",
            " 15  Cleanliness              94373 non-null  object\n",
            " 16  Online_Boarding          94373 non-null  object\n",
            "dtypes: int64(2), object(15)\n",
            "memory usage: 12.2+ MB\n"
          ]
        }
      ],
      "source": [
        "df_train_survey.info()"
      ]
    },
    {
      "cell_type": "code",
      "execution_count": null,
      "metadata": {
        "colab": {
          "base_uri": "https://localhost:8080/",
          "height": 300
        },
        "id": "PGwBtGvh-mbK",
        "outputId": "edba0460-c37b-4754-b0c4-fce75e5ab4b3"
      },
      "outputs": [
        {
          "output_type": "execute_result",
          "data": {
            "text/plain": [
              "                 ID  Overall_Experience\n",
              "count  9.437900e+04        94379.000000\n",
              "mean   9.884719e+07            0.546658\n",
              "std    2.724501e+04            0.497821\n",
              "min    9.880000e+07            0.000000\n",
              "25%    9.882360e+07            0.000000\n",
              "50%    9.884719e+07            1.000000\n",
              "75%    9.887078e+07            1.000000\n",
              "max    9.889438e+07            1.000000"
            ],
            "text/html": [
              "\n",
              "  <div id=\"df-1e2f23c3-76fa-4ddb-9c59-2e96733b7d3e\">\n",
              "    <div class=\"colab-df-container\">\n",
              "      <div>\n",
              "<style scoped>\n",
              "    .dataframe tbody tr th:only-of-type {\n",
              "        vertical-align: middle;\n",
              "    }\n",
              "\n",
              "    .dataframe tbody tr th {\n",
              "        vertical-align: top;\n",
              "    }\n",
              "\n",
              "    .dataframe thead th {\n",
              "        text-align: right;\n",
              "    }\n",
              "</style>\n",
              "<table border=\"1\" class=\"dataframe\">\n",
              "  <thead>\n",
              "    <tr style=\"text-align: right;\">\n",
              "      <th></th>\n",
              "      <th>ID</th>\n",
              "      <th>Overall_Experience</th>\n",
              "    </tr>\n",
              "  </thead>\n",
              "  <tbody>\n",
              "    <tr>\n",
              "      <th>count</th>\n",
              "      <td>9.437900e+04</td>\n",
              "      <td>94379.000000</td>\n",
              "    </tr>\n",
              "    <tr>\n",
              "      <th>mean</th>\n",
              "      <td>9.884719e+07</td>\n",
              "      <td>0.546658</td>\n",
              "    </tr>\n",
              "    <tr>\n",
              "      <th>std</th>\n",
              "      <td>2.724501e+04</td>\n",
              "      <td>0.497821</td>\n",
              "    </tr>\n",
              "    <tr>\n",
              "      <th>min</th>\n",
              "      <td>9.880000e+07</td>\n",
              "      <td>0.000000</td>\n",
              "    </tr>\n",
              "    <tr>\n",
              "      <th>25%</th>\n",
              "      <td>9.882360e+07</td>\n",
              "      <td>0.000000</td>\n",
              "    </tr>\n",
              "    <tr>\n",
              "      <th>50%</th>\n",
              "      <td>9.884719e+07</td>\n",
              "      <td>1.000000</td>\n",
              "    </tr>\n",
              "    <tr>\n",
              "      <th>75%</th>\n",
              "      <td>9.887078e+07</td>\n",
              "      <td>1.000000</td>\n",
              "    </tr>\n",
              "    <tr>\n",
              "      <th>max</th>\n",
              "      <td>9.889438e+07</td>\n",
              "      <td>1.000000</td>\n",
              "    </tr>\n",
              "  </tbody>\n",
              "</table>\n",
              "</div>\n",
              "      <button class=\"colab-df-convert\" onclick=\"convertToInteractive('df-1e2f23c3-76fa-4ddb-9c59-2e96733b7d3e')\"\n",
              "              title=\"Convert this dataframe to an interactive table.\"\n",
              "              style=\"display:none;\">\n",
              "        \n",
              "  <svg xmlns=\"http://www.w3.org/2000/svg\" height=\"24px\"viewBox=\"0 0 24 24\"\n",
              "       width=\"24px\">\n",
              "    <path d=\"M0 0h24v24H0V0z\" fill=\"none\"/>\n",
              "    <path d=\"M18.56 5.44l.94 2.06.94-2.06 2.06-.94-2.06-.94-.94-2.06-.94 2.06-2.06.94zm-11 1L8.5 8.5l.94-2.06 2.06-.94-2.06-.94L8.5 2.5l-.94 2.06-2.06.94zm10 10l.94 2.06.94-2.06 2.06-.94-2.06-.94-.94-2.06-.94 2.06-2.06.94z\"/><path d=\"M17.41 7.96l-1.37-1.37c-.4-.4-.92-.59-1.43-.59-.52 0-1.04.2-1.43.59L10.3 9.45l-7.72 7.72c-.78.78-.78 2.05 0 2.83L4 21.41c.39.39.9.59 1.41.59.51 0 1.02-.2 1.41-.59l7.78-7.78 2.81-2.81c.8-.78.8-2.07 0-2.86zM5.41 20L4 18.59l7.72-7.72 1.47 1.35L5.41 20z\"/>\n",
              "  </svg>\n",
              "      </button>\n",
              "      \n",
              "  <style>\n",
              "    .colab-df-container {\n",
              "      display:flex;\n",
              "      flex-wrap:wrap;\n",
              "      gap: 12px;\n",
              "    }\n",
              "\n",
              "    .colab-df-convert {\n",
              "      background-color: #E8F0FE;\n",
              "      border: none;\n",
              "      border-radius: 50%;\n",
              "      cursor: pointer;\n",
              "      display: none;\n",
              "      fill: #1967D2;\n",
              "      height: 32px;\n",
              "      padding: 0 0 0 0;\n",
              "      width: 32px;\n",
              "    }\n",
              "\n",
              "    .colab-df-convert:hover {\n",
              "      background-color: #E2EBFA;\n",
              "      box-shadow: 0px 1px 2px rgba(60, 64, 67, 0.3), 0px 1px 3px 1px rgba(60, 64, 67, 0.15);\n",
              "      fill: #174EA6;\n",
              "    }\n",
              "\n",
              "    [theme=dark] .colab-df-convert {\n",
              "      background-color: #3B4455;\n",
              "      fill: #D2E3FC;\n",
              "    }\n",
              "\n",
              "    [theme=dark] .colab-df-convert:hover {\n",
              "      background-color: #434B5C;\n",
              "      box-shadow: 0px 1px 3px 1px rgba(0, 0, 0, 0.15);\n",
              "      filter: drop-shadow(0px 1px 2px rgba(0, 0, 0, 0.3));\n",
              "      fill: #FFFFFF;\n",
              "    }\n",
              "  </style>\n",
              "\n",
              "      <script>\n",
              "        const buttonEl =\n",
              "          document.querySelector('#df-1e2f23c3-76fa-4ddb-9c59-2e96733b7d3e button.colab-df-convert');\n",
              "        buttonEl.style.display =\n",
              "          google.colab.kernel.accessAllowed ? 'block' : 'none';\n",
              "\n",
              "        async function convertToInteractive(key) {\n",
              "          const element = document.querySelector('#df-1e2f23c3-76fa-4ddb-9c59-2e96733b7d3e');\n",
              "          const dataTable =\n",
              "            await google.colab.kernel.invokeFunction('convertToInteractive',\n",
              "                                                     [key], {});\n",
              "          if (!dataTable) return;\n",
              "\n",
              "          const docLinkHtml = 'Like what you see? Visit the ' +\n",
              "            '<a target=\"_blank\" href=https://colab.research.google.com/notebooks/data_table.ipynb>data table notebook</a>'\n",
              "            + ' to learn more about interactive tables.';\n",
              "          element.innerHTML = '';\n",
              "          dataTable['output_type'] = 'display_data';\n",
              "          await google.colab.output.renderOutput(dataTable, element);\n",
              "          const docLink = document.createElement('div');\n",
              "          docLink.innerHTML = docLinkHtml;\n",
              "          element.appendChild(docLink);\n",
              "        }\n",
              "      </script>\n",
              "    </div>\n",
              "  </div>\n",
              "  "
            ]
          },
          "metadata": {},
          "execution_count": 30
        }
      ],
      "source": [
        "df_train_survey.describe()"
      ]
    },
    {
      "cell_type": "code",
      "execution_count": null,
      "metadata": {
        "colab": {
          "base_uri": "https://localhost:8080/"
        },
        "id": "LWsQPz41-pfQ",
        "outputId": "459a428d-e7d1-4847-d39d-0d1b20038d5a"
      },
      "outputs": [
        {
          "output_type": "execute_result",
          "data": {
            "text/plain": [
              "ID                         94379\n",
              "Overall_Experience         94379\n",
              "Seat_Comfort               94379\n",
              "Seat_Class                 94379\n",
              "Arrival_Time_Convenient    94379\n",
              "Catering                   94379\n",
              "Platform_Location          94379\n",
              "Onboard_Wifi_Service       94379\n",
              "Onboard_Entertainment      94379\n",
              "Online_Support             94379\n",
              "Ease_of_Online_Booking     94379\n",
              "Onboard_Service            94379\n",
              "Legroom                    94379\n",
              "Baggage_Handling           94379\n",
              "CheckIn_Service            94379\n",
              "Cleanliness                94379\n",
              "Online_Boarding            94379\n",
              "dtype: int64"
            ]
          },
          "metadata": {},
          "execution_count": 31
        }
      ],
      "source": [
        "df_train_survey.isnull().count()"
      ]
    },
    {
      "cell_type": "code",
      "execution_count": null,
      "metadata": {
        "id": "HUUu-xlvAkhH"
      },
      "outputs": [],
      "source": [
        "#df_train is the combined dataset for train\n",
        "df_train=df_train_travel.merge(df_train_survey,on='ID')"
      ]
    },
    {
      "cell_type": "code",
      "execution_count": null,
      "metadata": {
        "colab": {
          "base_uri": "https://localhost:8080/",
          "height": 357
        },
        "id": "KfbqrJ5BBbwK",
        "outputId": "c2aa3958-5200-4d91-a9c6-8971c9cd8396"
      },
      "outputs": [
        {
          "output_type": "execute_result",
          "data": {
            "text/plain": [
              "         ID  Gender   Customer_Type   Age      Type_Travel Travel_Class  \\\n",
              "0  98800001  Female  Loyal Customer  52.0              NaN     Business   \n",
              "1  98800002    Male  Loyal Customer  48.0  Personal Travel          Eco   \n",
              "2  98800003  Female  Loyal Customer  43.0  Business Travel     Business   \n",
              "3  98800004  Female  Loyal Customer  44.0  Business Travel     Business   \n",
              "4  98800005  Female  Loyal Customer  50.0  Business Travel     Business   \n",
              "\n",
              "   Travel_Distance  Departure_Delay_in_Mins  Arrival_Delay_in_Mins  \\\n",
              "0              272                      0.0                    5.0   \n",
              "1             2200                      9.0                    0.0   \n",
              "2             1061                     77.0                  119.0   \n",
              "3              780                     13.0                   18.0   \n",
              "4             1981                      0.0                    0.0   \n",
              "\n",
              "   Overall_Experience       Seat_Comfort Seat_Class Arrival_Time_Convenient  \\\n",
              "0                   0  Needs Improvement  Green Car               Excellent   \n",
              "1                   0               Poor   Ordinary               Excellent   \n",
              "2                   1  Needs Improvement  Green Car       Needs Improvement   \n",
              "3                   0         Acceptable   Ordinary       Needs Improvement   \n",
              "4                   1         Acceptable   Ordinary              Acceptable   \n",
              "\n",
              "            Catering  Platform_Location Onboard_Wifi_Service  \\\n",
              "0          Excellent    Very Convenient                 Good   \n",
              "1               Poor  Needs Improvement                 Good   \n",
              "2  Needs Improvement  Needs Improvement    Needs Improvement   \n",
              "3                NaN  Needs Improvement           Acceptable   \n",
              "4         Acceptable         Manageable    Needs Improvement   \n",
              "\n",
              "  Onboard_Entertainment Online_Support Ease_of_Online_Booking  \\\n",
              "0     Needs Improvement     Acceptable      Needs Improvement   \n",
              "1                  Poor           Good                   Good   \n",
              "2                  Good      Excellent              Excellent   \n",
              "3     Needs Improvement     Acceptable             Acceptable   \n",
              "4                  Good      Excellent                   Good   \n",
              "\n",
              "     Onboard_Service            Legroom   Baggage_Handling    CheckIn_Service  \\\n",
              "0  Needs Improvement         Acceptable  Needs Improvement               Good   \n",
              "1          Excellent  Needs Improvement               Poor  Needs Improvement   \n",
              "2          Excellent          Excellent          Excellent               Good   \n",
              "3         Acceptable         Acceptable         Acceptable               Good   \n",
              "4               Good               Good               Good               Good   \n",
              "\n",
              "         Cleanliness Online_Boarding  \n",
              "0  Needs Improvement            Poor  \n",
              "1               Good            Good  \n",
              "2          Excellent       Excellent  \n",
              "3         Acceptable      Acceptable  \n",
              "4               Good            Good  "
            ],
            "text/html": [
              "\n",
              "  <div id=\"df-d6686a1c-c684-4177-9533-285961b82357\">\n",
              "    <div class=\"colab-df-container\">\n",
              "      <div>\n",
              "<style scoped>\n",
              "    .dataframe tbody tr th:only-of-type {\n",
              "        vertical-align: middle;\n",
              "    }\n",
              "\n",
              "    .dataframe tbody tr th {\n",
              "        vertical-align: top;\n",
              "    }\n",
              "\n",
              "    .dataframe thead th {\n",
              "        text-align: right;\n",
              "    }\n",
              "</style>\n",
              "<table border=\"1\" class=\"dataframe\">\n",
              "  <thead>\n",
              "    <tr style=\"text-align: right;\">\n",
              "      <th></th>\n",
              "      <th>ID</th>\n",
              "      <th>Gender</th>\n",
              "      <th>Customer_Type</th>\n",
              "      <th>Age</th>\n",
              "      <th>Type_Travel</th>\n",
              "      <th>Travel_Class</th>\n",
              "      <th>Travel_Distance</th>\n",
              "      <th>Departure_Delay_in_Mins</th>\n",
              "      <th>Arrival_Delay_in_Mins</th>\n",
              "      <th>Overall_Experience</th>\n",
              "      <th>Seat_Comfort</th>\n",
              "      <th>Seat_Class</th>\n",
              "      <th>Arrival_Time_Convenient</th>\n",
              "      <th>Catering</th>\n",
              "      <th>Platform_Location</th>\n",
              "      <th>Onboard_Wifi_Service</th>\n",
              "      <th>Onboard_Entertainment</th>\n",
              "      <th>Online_Support</th>\n",
              "      <th>Ease_of_Online_Booking</th>\n",
              "      <th>Onboard_Service</th>\n",
              "      <th>Legroom</th>\n",
              "      <th>Baggage_Handling</th>\n",
              "      <th>CheckIn_Service</th>\n",
              "      <th>Cleanliness</th>\n",
              "      <th>Online_Boarding</th>\n",
              "    </tr>\n",
              "  </thead>\n",
              "  <tbody>\n",
              "    <tr>\n",
              "      <th>0</th>\n",
              "      <td>98800001</td>\n",
              "      <td>Female</td>\n",
              "      <td>Loyal Customer</td>\n",
              "      <td>52.0</td>\n",
              "      <td>NaN</td>\n",
              "      <td>Business</td>\n",
              "      <td>272</td>\n",
              "      <td>0.0</td>\n",
              "      <td>5.0</td>\n",
              "      <td>0</td>\n",
              "      <td>Needs Improvement</td>\n",
              "      <td>Green Car</td>\n",
              "      <td>Excellent</td>\n",
              "      <td>Excellent</td>\n",
              "      <td>Very Convenient</td>\n",
              "      <td>Good</td>\n",
              "      <td>Needs Improvement</td>\n",
              "      <td>Acceptable</td>\n",
              "      <td>Needs Improvement</td>\n",
              "      <td>Needs Improvement</td>\n",
              "      <td>Acceptable</td>\n",
              "      <td>Needs Improvement</td>\n",
              "      <td>Good</td>\n",
              "      <td>Needs Improvement</td>\n",
              "      <td>Poor</td>\n",
              "    </tr>\n",
              "    <tr>\n",
              "      <th>1</th>\n",
              "      <td>98800002</td>\n",
              "      <td>Male</td>\n",
              "      <td>Loyal Customer</td>\n",
              "      <td>48.0</td>\n",
              "      <td>Personal Travel</td>\n",
              "      <td>Eco</td>\n",
              "      <td>2200</td>\n",
              "      <td>9.0</td>\n",
              "      <td>0.0</td>\n",
              "      <td>0</td>\n",
              "      <td>Poor</td>\n",
              "      <td>Ordinary</td>\n",
              "      <td>Excellent</td>\n",
              "      <td>Poor</td>\n",
              "      <td>Needs Improvement</td>\n",
              "      <td>Good</td>\n",
              "      <td>Poor</td>\n",
              "      <td>Good</td>\n",
              "      <td>Good</td>\n",
              "      <td>Excellent</td>\n",
              "      <td>Needs Improvement</td>\n",
              "      <td>Poor</td>\n",
              "      <td>Needs Improvement</td>\n",
              "      <td>Good</td>\n",
              "      <td>Good</td>\n",
              "    </tr>\n",
              "    <tr>\n",
              "      <th>2</th>\n",
              "      <td>98800003</td>\n",
              "      <td>Female</td>\n",
              "      <td>Loyal Customer</td>\n",
              "      <td>43.0</td>\n",
              "      <td>Business Travel</td>\n",
              "      <td>Business</td>\n",
              "      <td>1061</td>\n",
              "      <td>77.0</td>\n",
              "      <td>119.0</td>\n",
              "      <td>1</td>\n",
              "      <td>Needs Improvement</td>\n",
              "      <td>Green Car</td>\n",
              "      <td>Needs Improvement</td>\n",
              "      <td>Needs Improvement</td>\n",
              "      <td>Needs Improvement</td>\n",
              "      <td>Needs Improvement</td>\n",
              "      <td>Good</td>\n",
              "      <td>Excellent</td>\n",
              "      <td>Excellent</td>\n",
              "      <td>Excellent</td>\n",
              "      <td>Excellent</td>\n",
              "      <td>Excellent</td>\n",
              "      <td>Good</td>\n",
              "      <td>Excellent</td>\n",
              "      <td>Excellent</td>\n",
              "    </tr>\n",
              "    <tr>\n",
              "      <th>3</th>\n",
              "      <td>98800004</td>\n",
              "      <td>Female</td>\n",
              "      <td>Loyal Customer</td>\n",
              "      <td>44.0</td>\n",
              "      <td>Business Travel</td>\n",
              "      <td>Business</td>\n",
              "      <td>780</td>\n",
              "      <td>13.0</td>\n",
              "      <td>18.0</td>\n",
              "      <td>0</td>\n",
              "      <td>Acceptable</td>\n",
              "      <td>Ordinary</td>\n",
              "      <td>Needs Improvement</td>\n",
              "      <td>NaN</td>\n",
              "      <td>Needs Improvement</td>\n",
              "      <td>Acceptable</td>\n",
              "      <td>Needs Improvement</td>\n",
              "      <td>Acceptable</td>\n",
              "      <td>Acceptable</td>\n",
              "      <td>Acceptable</td>\n",
              "      <td>Acceptable</td>\n",
              "      <td>Acceptable</td>\n",
              "      <td>Good</td>\n",
              "      <td>Acceptable</td>\n",
              "      <td>Acceptable</td>\n",
              "    </tr>\n",
              "    <tr>\n",
              "      <th>4</th>\n",
              "      <td>98800005</td>\n",
              "      <td>Female</td>\n",
              "      <td>Loyal Customer</td>\n",
              "      <td>50.0</td>\n",
              "      <td>Business Travel</td>\n",
              "      <td>Business</td>\n",
              "      <td>1981</td>\n",
              "      <td>0.0</td>\n",
              "      <td>0.0</td>\n",
              "      <td>1</td>\n",
              "      <td>Acceptable</td>\n",
              "      <td>Ordinary</td>\n",
              "      <td>Acceptable</td>\n",
              "      <td>Acceptable</td>\n",
              "      <td>Manageable</td>\n",
              "      <td>Needs Improvement</td>\n",
              "      <td>Good</td>\n",
              "      <td>Excellent</td>\n",
              "      <td>Good</td>\n",
              "      <td>Good</td>\n",
              "      <td>Good</td>\n",
              "      <td>Good</td>\n",
              "      <td>Good</td>\n",
              "      <td>Good</td>\n",
              "      <td>Good</td>\n",
              "    </tr>\n",
              "  </tbody>\n",
              "</table>\n",
              "</div>\n",
              "      <button class=\"colab-df-convert\" onclick=\"convertToInteractive('df-d6686a1c-c684-4177-9533-285961b82357')\"\n",
              "              title=\"Convert this dataframe to an interactive table.\"\n",
              "              style=\"display:none;\">\n",
              "        \n",
              "  <svg xmlns=\"http://www.w3.org/2000/svg\" height=\"24px\"viewBox=\"0 0 24 24\"\n",
              "       width=\"24px\">\n",
              "    <path d=\"M0 0h24v24H0V0z\" fill=\"none\"/>\n",
              "    <path d=\"M18.56 5.44l.94 2.06.94-2.06 2.06-.94-2.06-.94-.94-2.06-.94 2.06-2.06.94zm-11 1L8.5 8.5l.94-2.06 2.06-.94-2.06-.94L8.5 2.5l-.94 2.06-2.06.94zm10 10l.94 2.06.94-2.06 2.06-.94-2.06-.94-.94-2.06-.94 2.06-2.06.94z\"/><path d=\"M17.41 7.96l-1.37-1.37c-.4-.4-.92-.59-1.43-.59-.52 0-1.04.2-1.43.59L10.3 9.45l-7.72 7.72c-.78.78-.78 2.05 0 2.83L4 21.41c.39.39.9.59 1.41.59.51 0 1.02-.2 1.41-.59l7.78-7.78 2.81-2.81c.8-.78.8-2.07 0-2.86zM5.41 20L4 18.59l7.72-7.72 1.47 1.35L5.41 20z\"/>\n",
              "  </svg>\n",
              "      </button>\n",
              "      \n",
              "  <style>\n",
              "    .colab-df-container {\n",
              "      display:flex;\n",
              "      flex-wrap:wrap;\n",
              "      gap: 12px;\n",
              "    }\n",
              "\n",
              "    .colab-df-convert {\n",
              "      background-color: #E8F0FE;\n",
              "      border: none;\n",
              "      border-radius: 50%;\n",
              "      cursor: pointer;\n",
              "      display: none;\n",
              "      fill: #1967D2;\n",
              "      height: 32px;\n",
              "      padding: 0 0 0 0;\n",
              "      width: 32px;\n",
              "    }\n",
              "\n",
              "    .colab-df-convert:hover {\n",
              "      background-color: #E2EBFA;\n",
              "      box-shadow: 0px 1px 2px rgba(60, 64, 67, 0.3), 0px 1px 3px 1px rgba(60, 64, 67, 0.15);\n",
              "      fill: #174EA6;\n",
              "    }\n",
              "\n",
              "    [theme=dark] .colab-df-convert {\n",
              "      background-color: #3B4455;\n",
              "      fill: #D2E3FC;\n",
              "    }\n",
              "\n",
              "    [theme=dark] .colab-df-convert:hover {\n",
              "      background-color: #434B5C;\n",
              "      box-shadow: 0px 1px 3px 1px rgba(0, 0, 0, 0.15);\n",
              "      filter: drop-shadow(0px 1px 2px rgba(0, 0, 0, 0.3));\n",
              "      fill: #FFFFFF;\n",
              "    }\n",
              "  </style>\n",
              "\n",
              "      <script>\n",
              "        const buttonEl =\n",
              "          document.querySelector('#df-d6686a1c-c684-4177-9533-285961b82357 button.colab-df-convert');\n",
              "        buttonEl.style.display =\n",
              "          google.colab.kernel.accessAllowed ? 'block' : 'none';\n",
              "\n",
              "        async function convertToInteractive(key) {\n",
              "          const element = document.querySelector('#df-d6686a1c-c684-4177-9533-285961b82357');\n",
              "          const dataTable =\n",
              "            await google.colab.kernel.invokeFunction('convertToInteractive',\n",
              "                                                     [key], {});\n",
              "          if (!dataTable) return;\n",
              "\n",
              "          const docLinkHtml = 'Like what you see? Visit the ' +\n",
              "            '<a target=\"_blank\" href=https://colab.research.google.com/notebooks/data_table.ipynb>data table notebook</a>'\n",
              "            + ' to learn more about interactive tables.';\n",
              "          element.innerHTML = '';\n",
              "          dataTable['output_type'] = 'display_data';\n",
              "          await google.colab.output.renderOutput(dataTable, element);\n",
              "          const docLink = document.createElement('div');\n",
              "          docLink.innerHTML = docLinkHtml;\n",
              "          element.appendChild(docLink);\n",
              "        }\n",
              "      </script>\n",
              "    </div>\n",
              "  </div>\n",
              "  "
            ]
          },
          "metadata": {},
          "execution_count": 33
        }
      ],
      "source": [
        "df_train.head()"
      ]
    },
    {
      "cell_type": "code",
      "execution_count": null,
      "metadata": {
        "id": "7Vqo3yIQ_DUW"
      },
      "outputs": [],
      "source": [
        "test_travel='/content/drive/MyDrive/Hackathons/Traveldata_test.csv'\n",
        "df_test_travel=pd.read_csv(test_travel)"
      ]
    },
    {
      "cell_type": "code",
      "execution_count": null,
      "metadata": {
        "colab": {
          "base_uri": "https://localhost:8080/"
        },
        "id": "Dk4kMazb_QoM",
        "outputId": "482b06bc-8b20-400b-c8cd-25f0573c1a0c"
      },
      "outputs": [
        {
          "output_type": "execute_result",
          "data": {
            "text/plain": [
              "ID                         35602\n",
              "Gender                     35602\n",
              "Customer_Type              35602\n",
              "Age                        35602\n",
              "Type_Travel                35602\n",
              "Travel_Class               35602\n",
              "Travel_Distance            35602\n",
              "Departure_Delay_in_Mins    35602\n",
              "Arrival_Delay_in_Mins      35602\n",
              "dtype: int64"
            ]
          },
          "metadata": {},
          "execution_count": 35
        }
      ],
      "source": [
        "df_test_travel.isnull().count()"
      ]
    },
    {
      "cell_type": "code",
      "execution_count": null,
      "metadata": {
        "id": "R0fm_Ksb_Um4"
      },
      "outputs": [],
      "source": [
        "test_survey='/content/drive/MyDrive/Hackathons/Surveydata_test.csv'\n",
        "df_test_survey=pd.read_csv(test_survey)"
      ]
    },
    {
      "cell_type": "code",
      "execution_count": null,
      "metadata": {
        "colab": {
          "base_uri": "https://localhost:8080/"
        },
        "id": "16LCx0rnALFz",
        "outputId": "594a19ca-4362-4f09-9d2c-32743780c8d2"
      },
      "outputs": [
        {
          "output_type": "execute_result",
          "data": {
            "text/plain": [
              "ID                         35602\n",
              "Seat_Comfort               35602\n",
              "Seat_Class                 35602\n",
              "Arrival_Time_Convenient    35602\n",
              "Catering                   35602\n",
              "Platform_Location          35602\n",
              "Onboard_Wifi_Service       35602\n",
              "Onboard_Entertainment      35602\n",
              "Online_Support             35602\n",
              "Ease_of_Online_Booking     35602\n",
              "Onboard_Service            35602\n",
              "Legroom                    35602\n",
              "Baggage_Handling           35602\n",
              "CheckIn_Service            35602\n",
              "Cleanliness                35602\n",
              "Online_Boarding            35602\n",
              "dtype: int64"
            ]
          },
          "metadata": {},
          "execution_count": 37
        }
      ],
      "source": [
        "df_test_survey.isnull().count()"
      ]
    },
    {
      "cell_type": "code",
      "execution_count": null,
      "metadata": {
        "colab": {
          "base_uri": "https://localhost:8080/",
          "height": 357
        },
        "id": "S9RY0GBjBfhb",
        "outputId": "f981e645-9f95-4fee-d32c-0b9abbf696cb"
      },
      "outputs": [
        {
          "output_type": "execute_result",
          "data": {
            "text/plain": [
              "         ID  Gender      Customer_Type   Age      Type_Travel Travel_Class  \\\n",
              "0  99900001  Female                NaN  36.0  Business Travel     Business   \n",
              "1  99900002  Female  Disloyal Customer  21.0  Business Travel     Business   \n",
              "2  99900003    Male     Loyal Customer  60.0  Business Travel     Business   \n",
              "3  99900004  Female     Loyal Customer  29.0  Personal Travel          Eco   \n",
              "4  99900005    Male  Disloyal Customer  18.0  Business Travel     Business   \n",
              "\n",
              "   Travel_Distance  Departure_Delay_in_Mins  Arrival_Delay_in_Mins  \\\n",
              "0              532                      0.0                    0.0   \n",
              "1             1425                      9.0                   28.0   \n",
              "2             2832                      0.0                    0.0   \n",
              "3             1352                      0.0                    0.0   \n",
              "4             1610                     17.0                    0.0   \n",
              "\n",
              "     Seat_Comfort Seat_Class Arrival_Time_Convenient    Catering  \\\n",
              "0      Acceptable  Green Car              Acceptable  Acceptable   \n",
              "1  Extremely Poor   Ordinary                    Good        Poor   \n",
              "2       Excellent   Ordinary               Excellent   Excellent   \n",
              "3      Acceptable  Green Car               Excellent  Acceptable   \n",
              "4       Excellent   Ordinary          Extremely Poor   Excellent   \n",
              "\n",
              "   Platform_Location Onboard_Wifi_Service Onboard_Entertainment  \\\n",
              "0         Manageable    Needs Improvement             Excellent   \n",
              "1         Manageable           Acceptable                  Poor   \n",
              "2    Very Convenient            Excellent             Excellent   \n",
              "3    Very Convenient                 Poor            Acceptable   \n",
              "4  Needs Improvement            Excellent             Excellent   \n",
              "\n",
              "  Online_Support Ease_of_Online_Booking    Onboard_Service            Legroom  \\\n",
              "0           Good              Excellent          Excellent          Excellent   \n",
              "1     Acceptable             Acceptable          Excellent         Acceptable   \n",
              "2      Excellent      Needs Improvement  Needs Improvement  Needs Improvement   \n",
              "3      Excellent                   Poor         Acceptable  Needs Improvement   \n",
              "4      Excellent              Excellent                NaN         Acceptable   \n",
              "\n",
              "    Baggage_Handling CheckIn_Service        Cleanliness Online_Boarding  \n",
              "0          Excellent            Good          Excellent            Poor  \n",
              "1               Good      Acceptable          Excellent      Acceptable  \n",
              "2  Needs Improvement            Good  Needs Improvement       Excellent  \n",
              "3          Excellent       Excellent          Excellent            Poor  \n",
              "4          Excellent       Excellent          Excellent       Excellent  "
            ],
            "text/html": [
              "\n",
              "  <div id=\"df-2d416ef7-4862-4e9f-b3f2-c2f18fd56766\">\n",
              "    <div class=\"colab-df-container\">\n",
              "      <div>\n",
              "<style scoped>\n",
              "    .dataframe tbody tr th:only-of-type {\n",
              "        vertical-align: middle;\n",
              "    }\n",
              "\n",
              "    .dataframe tbody tr th {\n",
              "        vertical-align: top;\n",
              "    }\n",
              "\n",
              "    .dataframe thead th {\n",
              "        text-align: right;\n",
              "    }\n",
              "</style>\n",
              "<table border=\"1\" class=\"dataframe\">\n",
              "  <thead>\n",
              "    <tr style=\"text-align: right;\">\n",
              "      <th></th>\n",
              "      <th>ID</th>\n",
              "      <th>Gender</th>\n",
              "      <th>Customer_Type</th>\n",
              "      <th>Age</th>\n",
              "      <th>Type_Travel</th>\n",
              "      <th>Travel_Class</th>\n",
              "      <th>Travel_Distance</th>\n",
              "      <th>Departure_Delay_in_Mins</th>\n",
              "      <th>Arrival_Delay_in_Mins</th>\n",
              "      <th>Seat_Comfort</th>\n",
              "      <th>Seat_Class</th>\n",
              "      <th>Arrival_Time_Convenient</th>\n",
              "      <th>Catering</th>\n",
              "      <th>Platform_Location</th>\n",
              "      <th>Onboard_Wifi_Service</th>\n",
              "      <th>Onboard_Entertainment</th>\n",
              "      <th>Online_Support</th>\n",
              "      <th>Ease_of_Online_Booking</th>\n",
              "      <th>Onboard_Service</th>\n",
              "      <th>Legroom</th>\n",
              "      <th>Baggage_Handling</th>\n",
              "      <th>CheckIn_Service</th>\n",
              "      <th>Cleanliness</th>\n",
              "      <th>Online_Boarding</th>\n",
              "    </tr>\n",
              "  </thead>\n",
              "  <tbody>\n",
              "    <tr>\n",
              "      <th>0</th>\n",
              "      <td>99900001</td>\n",
              "      <td>Female</td>\n",
              "      <td>NaN</td>\n",
              "      <td>36.0</td>\n",
              "      <td>Business Travel</td>\n",
              "      <td>Business</td>\n",
              "      <td>532</td>\n",
              "      <td>0.0</td>\n",
              "      <td>0.0</td>\n",
              "      <td>Acceptable</td>\n",
              "      <td>Green Car</td>\n",
              "      <td>Acceptable</td>\n",
              "      <td>Acceptable</td>\n",
              "      <td>Manageable</td>\n",
              "      <td>Needs Improvement</td>\n",
              "      <td>Excellent</td>\n",
              "      <td>Good</td>\n",
              "      <td>Excellent</td>\n",
              "      <td>Excellent</td>\n",
              "      <td>Excellent</td>\n",
              "      <td>Excellent</td>\n",
              "      <td>Good</td>\n",
              "      <td>Excellent</td>\n",
              "      <td>Poor</td>\n",
              "    </tr>\n",
              "    <tr>\n",
              "      <th>1</th>\n",
              "      <td>99900002</td>\n",
              "      <td>Female</td>\n",
              "      <td>Disloyal Customer</td>\n",
              "      <td>21.0</td>\n",
              "      <td>Business Travel</td>\n",
              "      <td>Business</td>\n",
              "      <td>1425</td>\n",
              "      <td>9.0</td>\n",
              "      <td>28.0</td>\n",
              "      <td>Extremely Poor</td>\n",
              "      <td>Ordinary</td>\n",
              "      <td>Good</td>\n",
              "      <td>Poor</td>\n",
              "      <td>Manageable</td>\n",
              "      <td>Acceptable</td>\n",
              "      <td>Poor</td>\n",
              "      <td>Acceptable</td>\n",
              "      <td>Acceptable</td>\n",
              "      <td>Excellent</td>\n",
              "      <td>Acceptable</td>\n",
              "      <td>Good</td>\n",
              "      <td>Acceptable</td>\n",
              "      <td>Excellent</td>\n",
              "      <td>Acceptable</td>\n",
              "    </tr>\n",
              "    <tr>\n",
              "      <th>2</th>\n",
              "      <td>99900003</td>\n",
              "      <td>Male</td>\n",
              "      <td>Loyal Customer</td>\n",
              "      <td>60.0</td>\n",
              "      <td>Business Travel</td>\n",
              "      <td>Business</td>\n",
              "      <td>2832</td>\n",
              "      <td>0.0</td>\n",
              "      <td>0.0</td>\n",
              "      <td>Excellent</td>\n",
              "      <td>Ordinary</td>\n",
              "      <td>Excellent</td>\n",
              "      <td>Excellent</td>\n",
              "      <td>Very Convenient</td>\n",
              "      <td>Excellent</td>\n",
              "      <td>Excellent</td>\n",
              "      <td>Excellent</td>\n",
              "      <td>Needs Improvement</td>\n",
              "      <td>Needs Improvement</td>\n",
              "      <td>Needs Improvement</td>\n",
              "      <td>Needs Improvement</td>\n",
              "      <td>Good</td>\n",
              "      <td>Needs Improvement</td>\n",
              "      <td>Excellent</td>\n",
              "    </tr>\n",
              "    <tr>\n",
              "      <th>3</th>\n",
              "      <td>99900004</td>\n",
              "      <td>Female</td>\n",
              "      <td>Loyal Customer</td>\n",
              "      <td>29.0</td>\n",
              "      <td>Personal Travel</td>\n",
              "      <td>Eco</td>\n",
              "      <td>1352</td>\n",
              "      <td>0.0</td>\n",
              "      <td>0.0</td>\n",
              "      <td>Acceptable</td>\n",
              "      <td>Green Car</td>\n",
              "      <td>Excellent</td>\n",
              "      <td>Acceptable</td>\n",
              "      <td>Very Convenient</td>\n",
              "      <td>Poor</td>\n",
              "      <td>Acceptable</td>\n",
              "      <td>Excellent</td>\n",
              "      <td>Poor</td>\n",
              "      <td>Acceptable</td>\n",
              "      <td>Needs Improvement</td>\n",
              "      <td>Excellent</td>\n",
              "      <td>Excellent</td>\n",
              "      <td>Excellent</td>\n",
              "      <td>Poor</td>\n",
              "    </tr>\n",
              "    <tr>\n",
              "      <th>4</th>\n",
              "      <td>99900005</td>\n",
              "      <td>Male</td>\n",
              "      <td>Disloyal Customer</td>\n",
              "      <td>18.0</td>\n",
              "      <td>Business Travel</td>\n",
              "      <td>Business</td>\n",
              "      <td>1610</td>\n",
              "      <td>17.0</td>\n",
              "      <td>0.0</td>\n",
              "      <td>Excellent</td>\n",
              "      <td>Ordinary</td>\n",
              "      <td>Extremely Poor</td>\n",
              "      <td>Excellent</td>\n",
              "      <td>Needs Improvement</td>\n",
              "      <td>Excellent</td>\n",
              "      <td>Excellent</td>\n",
              "      <td>Excellent</td>\n",
              "      <td>Excellent</td>\n",
              "      <td>NaN</td>\n",
              "      <td>Acceptable</td>\n",
              "      <td>Excellent</td>\n",
              "      <td>Excellent</td>\n",
              "      <td>Excellent</td>\n",
              "      <td>Excellent</td>\n",
              "    </tr>\n",
              "  </tbody>\n",
              "</table>\n",
              "</div>\n",
              "      <button class=\"colab-df-convert\" onclick=\"convertToInteractive('df-2d416ef7-4862-4e9f-b3f2-c2f18fd56766')\"\n",
              "              title=\"Convert this dataframe to an interactive table.\"\n",
              "              style=\"display:none;\">\n",
              "        \n",
              "  <svg xmlns=\"http://www.w3.org/2000/svg\" height=\"24px\"viewBox=\"0 0 24 24\"\n",
              "       width=\"24px\">\n",
              "    <path d=\"M0 0h24v24H0V0z\" fill=\"none\"/>\n",
              "    <path d=\"M18.56 5.44l.94 2.06.94-2.06 2.06-.94-2.06-.94-.94-2.06-.94 2.06-2.06.94zm-11 1L8.5 8.5l.94-2.06 2.06-.94-2.06-.94L8.5 2.5l-.94 2.06-2.06.94zm10 10l.94 2.06.94-2.06 2.06-.94-2.06-.94-.94-2.06-.94 2.06-2.06.94z\"/><path d=\"M17.41 7.96l-1.37-1.37c-.4-.4-.92-.59-1.43-.59-.52 0-1.04.2-1.43.59L10.3 9.45l-7.72 7.72c-.78.78-.78 2.05 0 2.83L4 21.41c.39.39.9.59 1.41.59.51 0 1.02-.2 1.41-.59l7.78-7.78 2.81-2.81c.8-.78.8-2.07 0-2.86zM5.41 20L4 18.59l7.72-7.72 1.47 1.35L5.41 20z\"/>\n",
              "  </svg>\n",
              "      </button>\n",
              "      \n",
              "  <style>\n",
              "    .colab-df-container {\n",
              "      display:flex;\n",
              "      flex-wrap:wrap;\n",
              "      gap: 12px;\n",
              "    }\n",
              "\n",
              "    .colab-df-convert {\n",
              "      background-color: #E8F0FE;\n",
              "      border: none;\n",
              "      border-radius: 50%;\n",
              "      cursor: pointer;\n",
              "      display: none;\n",
              "      fill: #1967D2;\n",
              "      height: 32px;\n",
              "      padding: 0 0 0 0;\n",
              "      width: 32px;\n",
              "    }\n",
              "\n",
              "    .colab-df-convert:hover {\n",
              "      background-color: #E2EBFA;\n",
              "      box-shadow: 0px 1px 2px rgba(60, 64, 67, 0.3), 0px 1px 3px 1px rgba(60, 64, 67, 0.15);\n",
              "      fill: #174EA6;\n",
              "    }\n",
              "\n",
              "    [theme=dark] .colab-df-convert {\n",
              "      background-color: #3B4455;\n",
              "      fill: #D2E3FC;\n",
              "    }\n",
              "\n",
              "    [theme=dark] .colab-df-convert:hover {\n",
              "      background-color: #434B5C;\n",
              "      box-shadow: 0px 1px 3px 1px rgba(0, 0, 0, 0.15);\n",
              "      filter: drop-shadow(0px 1px 2px rgba(0, 0, 0, 0.3));\n",
              "      fill: #FFFFFF;\n",
              "    }\n",
              "  </style>\n",
              "\n",
              "      <script>\n",
              "        const buttonEl =\n",
              "          document.querySelector('#df-2d416ef7-4862-4e9f-b3f2-c2f18fd56766 button.colab-df-convert');\n",
              "        buttonEl.style.display =\n",
              "          google.colab.kernel.accessAllowed ? 'block' : 'none';\n",
              "\n",
              "        async function convertToInteractive(key) {\n",
              "          const element = document.querySelector('#df-2d416ef7-4862-4e9f-b3f2-c2f18fd56766');\n",
              "          const dataTable =\n",
              "            await google.colab.kernel.invokeFunction('convertToInteractive',\n",
              "                                                     [key], {});\n",
              "          if (!dataTable) return;\n",
              "\n",
              "          const docLinkHtml = 'Like what you see? Visit the ' +\n",
              "            '<a target=\"_blank\" href=https://colab.research.google.com/notebooks/data_table.ipynb>data table notebook</a>'\n",
              "            + ' to learn more about interactive tables.';\n",
              "          element.innerHTML = '';\n",
              "          dataTable['output_type'] = 'display_data';\n",
              "          await google.colab.output.renderOutput(dataTable, element);\n",
              "          const docLink = document.createElement('div');\n",
              "          docLink.innerHTML = docLinkHtml;\n",
              "          element.appendChild(docLink);\n",
              "        }\n",
              "      </script>\n",
              "    </div>\n",
              "  </div>\n",
              "  "
            ]
          },
          "metadata": {},
          "execution_count": 38
        }
      ],
      "source": [
        "#df_test is the combined dataset for test\n",
        "df_test=df_test_travel.merge(df_test_survey,on='ID')\n",
        "df_test.head()"
      ]
    },
    {
      "cell_type": "code",
      "execution_count": null,
      "metadata": {
        "colab": {
          "base_uri": "https://localhost:8080/"
        },
        "id": "UyUDO_RXOdEg",
        "outputId": "28362b44-fa21-48af-c18b-fb160b988dbb"
      },
      "outputs": [
        {
          "output_type": "execute_result",
          "data": {
            "text/plain": [
              "ID                           int64\n",
              "Gender                      object\n",
              "Customer_Type               object\n",
              "Age                        float64\n",
              "Type_Travel                 object\n",
              "Travel_Class                object\n",
              "Travel_Distance              int64\n",
              "Departure_Delay_in_Mins    float64\n",
              "Arrival_Delay_in_Mins      float64\n",
              "Overall_Experience           int64\n",
              "Seat_Comfort                object\n",
              "Seat_Class                  object\n",
              "Arrival_Time_Convenient     object\n",
              "Catering                    object\n",
              "Platform_Location           object\n",
              "Onboard_Wifi_Service        object\n",
              "Onboard_Entertainment       object\n",
              "Online_Support              object\n",
              "Ease_of_Online_Booking      object\n",
              "Onboard_Service             object\n",
              "Legroom                     object\n",
              "Baggage_Handling            object\n",
              "CheckIn_Service             object\n",
              "Cleanliness                 object\n",
              "Online_Boarding             object\n",
              "dtype: object"
            ]
          },
          "metadata": {},
          "execution_count": 39
        }
      ],
      "source": [
        "df_train.dtypes"
      ]
    },
    {
      "cell_type": "code",
      "execution_count": null,
      "metadata": {
        "id": "qYHRDaeQOk3z"
      },
      "outputs": [],
      "source": [
        "s=((df_train.dtypes=='float64') | (df_train.dtypes=='int64'))\n",
        "num_cols=list(s[s].index)"
      ]
    },
    {
      "cell_type": "code",
      "execution_count": null,
      "metadata": {
        "colab": {
          "base_uri": "https://localhost:8080/"
        },
        "id": "6c33dK3vPk7E",
        "outputId": "d7e7d6ac-744f-4421-e90d-215cebd9212d"
      },
      "outputs": [
        {
          "output_type": "execute_result",
          "data": {
            "text/plain": [
              "['ID',\n",
              " 'Age',\n",
              " 'Travel_Distance',\n",
              " 'Departure_Delay_in_Mins',\n",
              " 'Arrival_Delay_in_Mins',\n",
              " 'Overall_Experience']"
            ]
          },
          "metadata": {},
          "execution_count": 41
        }
      ],
      "source": [
        "num_cols"
      ]
    },
    {
      "cell_type": "markdown",
      "metadata": {
        "id": "_mUaFcbeBxRm"
      },
      "source": [
        "categorical columns transform"
      ]
    },
    {
      "cell_type": "code",
      "execution_count": null,
      "metadata": {
        "id": "BagrpYtZBsj6"
      },
      "outputs": [],
      "source": [
        "cal_ord_cols=[\"Platform_Location\",\"Seat_Comfort\",\"Arrival_Time_Convenient\",\"Catering\",\"Onboard_Wifi_Service\",\"Onboard_Entertainment\",\"Online_Support\",\"Ease_of_Online_Booking\",\"Onboard_Service\",\"Legroom\",\"Baggage_Handling\",\"CheckIn_Service\",\"Cleanliness\",\"Online_Boarding\"]"
      ]
    },
    {
      "cell_type": "code",
      "execution_count": null,
      "metadata": {
        "colab": {
          "base_uri": "https://localhost:8080/"
        },
        "id": "V9hb5RWpOap1",
        "outputId": "11b5c181-8f4c-4881-dbde-e40f9a0b6a55"
      },
      "outputs": [
        {
          "output_type": "execute_result",
          "data": {
            "text/plain": [
              "['Gender', 'Customer_Type', 'Type_Travel', 'Travel_Class', 'Seat_Class']"
            ]
          },
          "metadata": {},
          "execution_count": 43
        }
      ],
      "source": [
        "cal_ohe_cols=[]\n",
        "for col in df_train.columns:\n",
        "  if ((col not in num_cols) and (col not in cal_ord_cols)):\n",
        "    cal_ohe_cols.append(col)\n",
        "\n",
        "cal_ohe_cols"
      ]
    },
    {
      "cell_type": "code",
      "execution_count": null,
      "metadata": {
        "id": "ulitIu_QbjEk"
      },
      "outputs": [],
      "source": [
        "df_train.set_index(\"ID\",inplace=True)"
      ]
    },
    {
      "cell_type": "code",
      "execution_count": null,
      "metadata": {
        "id": "jdhZHQc7YrUK"
      },
      "outputs": [],
      "source": [
        "df_test.set_index(\"ID\",inplace=True)"
      ]
    },
    {
      "cell_type": "code",
      "execution_count": null,
      "metadata": {
        "colab": {
          "base_uri": "https://localhost:8080/"
        },
        "id": "tC49ut2ueag1",
        "outputId": "2cedec35-dda1-475e-9a31-20f398287d2a"
      },
      "outputs": [
        {
          "output_type": "execute_result",
          "data": {
            "text/plain": [
              "44597"
            ]
          },
          "metadata": {},
          "execution_count": 46
        }
      ],
      "source": [
        "sum(df_train.isnull().values.ravel())"
      ]
    },
    {
      "cell_type": "code",
      "execution_count": null,
      "metadata": {
        "colab": {
          "base_uri": "https://localhost:8080/"
        },
        "id": "sXWS78WDhj_n",
        "outputId": "9aa9b8bb-e095-4c3f-eaeb-98096d7c6cc9"
      },
      "outputs": [
        {
          "output_type": "execute_result",
          "data": {
            "text/plain": [
              "Gender                       77\n",
              "Customer_Type              8951\n",
              "Age                          33\n",
              "Type_Travel                9226\n",
              "Travel_Class                  0\n",
              "Travel_Distance               0\n",
              "Departure_Delay_in_Mins      57\n",
              "Arrival_Delay_in_Mins       357\n",
              "Overall_Experience            0\n",
              "Seat_Comfort                 61\n",
              "Seat_Class                    0\n",
              "Arrival_Time_Convenient    8930\n",
              "Catering                   8741\n",
              "Platform_Location            30\n",
              "Onboard_Wifi_Service         30\n",
              "Onboard_Entertainment        18\n",
              "Online_Support               91\n",
              "Ease_of_Online_Booking       73\n",
              "Onboard_Service            7601\n",
              "Legroom                      90\n",
              "Baggage_Handling            142\n",
              "CheckIn_Service              77\n",
              "Cleanliness                   6\n",
              "Online_Boarding               6\n",
              "dtype: int64"
            ]
          },
          "metadata": {},
          "execution_count": 47
        }
      ],
      "source": [
        "df_train.isnull().sum()"
      ]
    },
    {
      "cell_type": "code",
      "execution_count": null,
      "metadata": {
        "colab": {
          "base_uri": "https://localhost:8080/"
        },
        "id": "kAwDD0Gmh421",
        "outputId": "3e283670-4e00-498f-a054-dcefa9e32df0"
      },
      "outputs": [
        {
          "output_type": "execute_result",
          "data": {
            "text/plain": [
              "Gender                       30\n",
              "Customer_Type              3383\n",
              "Age                          11\n",
              "Type_Travel                3448\n",
              "Travel_Class                  0\n",
              "Travel_Distance               0\n",
              "Departure_Delay_in_Mins      29\n",
              "Arrival_Delay_in_Mins       123\n",
              "Seat_Comfort                 22\n",
              "Seat_Class                    0\n",
              "Arrival_Time_Convenient    3325\n",
              "Catering                   3357\n",
              "Platform_Location            12\n",
              "Onboard_Wifi_Service         12\n",
              "Onboard_Entertainment         8\n",
              "Online_Support               26\n",
              "Ease_of_Online_Booking       18\n",
              "Onboard_Service            2872\n",
              "Legroom                      25\n",
              "Baggage_Handling             40\n",
              "CheckIn_Service              22\n",
              "Cleanliness                   2\n",
              "Online_Boarding               2\n",
              "dtype: int64"
            ]
          },
          "metadata": {},
          "execution_count": 48
        }
      ],
      "source": [
        "df_test.isnull().sum()"
      ]
    },
    {
      "cell_type": "code",
      "source": [
        "#Add Binary Flag of missing value + we will not include missing value count, binary flag is better\n",
        "def add_binary_flag(df,col):\n",
        "    '''\n",
        "    df: It is the dataframe\n",
        "    col: it is column which has missing values\n",
        "    It returns a dataframe which has binary falg for missing values in column col\n",
        "    '''\n",
        "    new_col = str(col)\n",
        "    new_col += '_missing_values_flag'\n",
        "    df[new_col] = df[col].isna()\n",
        "    return df\n",
        "\n",
        "# list of columns that has missing values in it\n",
        "missing_col = [col for col in df_train.columns if df_train[col].isnull().any()]\n",
        "\n",
        "for column in missing_col:\n",
        "    add_binary_flag(df_train,column)\n",
        "\n",
        "missing_col = [col for col in df_test.columns if df_train[col].isnull().any()]\n",
        "\n",
        "for column in missing_col:\n",
        "    add_binary_flag(df_test,column)"
      ],
      "metadata": {
        "id": "kYjPfpwED2VE"
      },
      "execution_count": null,
      "outputs": []
    },
    {
      "cell_type": "code",
      "execution_count": null,
      "metadata": {
        "id": "dDO1_bPRUpG4"
      },
      "outputs": [],
      "source": [
        "#one hot encoding the categorical variables\n",
        "from sklearn.preprocessing import OrdinalEncoder\n",
        "cat_1={\"Very Inconvenient\":1,\n",
        "\"Inconvenient\":2,\n",
        "\"Needs Improvement\":3,\n",
        "\"Manageable\":4,\n",
        "\"Convenient\":5,\n",
        "\"Very Convenient\":6,\n",
        "\"NaN\":0}\n",
        "cat_2={\"Extremely Poor\":1,\n",
        "\"Poor\":2,\n",
        "\"Needs Improvement\":3,\n",
        "\"Acceptable\":4,\n",
        "\"Good\":5,\n",
        "\"Excellent\":6,\n",
        "\"NaN\":0}\n",
        "cat_1[\"NaN\"]=df_train[\"Platform_Location\"].value_counts().idxmax() #Replace Missing Value with Excellent Rating\n",
        "df_train[\"Platform_Location\"]=df_train[\"Platform_Location\"].map(cat_1)"
      ]
    },
    {
      "cell_type": "code",
      "execution_count": null,
      "metadata": {
        "id": "R2N2JoN4a_IT"
      },
      "outputs": [],
      "source": [
        "for col in cal_ord_cols:\n",
        "  if col!=\"Platform_Location\":\n",
        "    cat_2[\"NaN\"]=df_train[col].value_counts().idxmax()\n",
        "    df_train[\"odl_\"+col]=df_train[col].map(cat_2)"
      ]
    },
    {
      "cell_type": "code",
      "source": [
        "df_test[\"Platform_Location\"]=df_test[\"Platform_Location\"].map(cat_1)\n",
        "for col in cal_ord_cols:\n",
        "  if col!=\"Platform_Location\":\n",
        "    cat_2[\"NaN\"]=df_test[col].value_counts().idxmax()\n",
        "    df_test[\"odl_\"+col]=df_test[col].map(cat_2)"
      ],
      "metadata": {
        "id": "a5AxZ2vOHouk"
      },
      "execution_count": null,
      "outputs": []
    },
    {
      "cell_type": "code",
      "execution_count": null,
      "metadata": {
        "colab": {
          "base_uri": "https://localhost:8080/"
        },
        "id": "j6c5zVdAuUpI",
        "outputId": "bcfb8b34-7076-4ec8-e790-cae3883636db"
      },
      "outputs": [
        {
          "output_type": "execute_result",
          "data": {
            "text/plain": [
              "Gender                                          object\n",
              "Customer_Type                                   object\n",
              "Age                                            float64\n",
              "Type_Travel                                     object\n",
              "Travel_Class                                    object\n",
              "Travel_Distance                                  int64\n",
              "Departure_Delay_in_Mins                        float64\n",
              "Arrival_Delay_in_Mins                          float64\n",
              "Overall_Experience                               int64\n",
              "Seat_Comfort                                    object\n",
              "Seat_Class                                      object\n",
              "Arrival_Time_Convenient                         object\n",
              "Catering                                        object\n",
              "Platform_Location                               object\n",
              "Onboard_Wifi_Service                            object\n",
              "Onboard_Entertainment                           object\n",
              "Online_Support                                  object\n",
              "Ease_of_Online_Booking                          object\n",
              "Onboard_Service                                 object\n",
              "Legroom                                         object\n",
              "Baggage_Handling                                object\n",
              "CheckIn_Service                                 object\n",
              "Cleanliness                                     object\n",
              "Online_Boarding                                 object\n",
              "Gender_missing_values_flag                        bool\n",
              "Customer_Type_missing_values_flag                 bool\n",
              "Age_missing_values_flag                           bool\n",
              "Type_Travel_missing_values_flag                   bool\n",
              "Departure_Delay_in_Mins_missing_values_flag       bool\n",
              "Arrival_Delay_in_Mins_missing_values_flag         bool\n",
              "Seat_Comfort_missing_values_flag                  bool\n",
              "Arrival_Time_Convenient_missing_values_flag       bool\n",
              "Catering_missing_values_flag                      bool\n",
              "Platform_Location_missing_values_flag             bool\n",
              "Onboard_Wifi_Service_missing_values_flag          bool\n",
              "Onboard_Entertainment_missing_values_flag         bool\n",
              "Online_Support_missing_values_flag                bool\n",
              "Ease_of_Online_Booking_missing_values_flag        bool\n",
              "Onboard_Service_missing_values_flag               bool\n",
              "Legroom_missing_values_flag                       bool\n",
              "Baggage_Handling_missing_values_flag              bool\n",
              "CheckIn_Service_missing_values_flag               bool\n",
              "Cleanliness_missing_values_flag                   bool\n",
              "Online_Boarding_missing_values_flag               bool\n",
              "odl_Seat_Comfort                                object\n",
              "odl_Arrival_Time_Convenient                     object\n",
              "odl_Catering                                    object\n",
              "odl_Onboard_Wifi_Service                        object\n",
              "odl_Onboard_Entertainment                       object\n",
              "odl_Online_Support                              object\n",
              "odl_Ease_of_Online_Booking                      object\n",
              "odl_Onboard_Service                             object\n",
              "odl_Legroom                                     object\n",
              "odl_Baggage_Handling                            object\n",
              "odl_CheckIn_Service                             object\n",
              "odl_Cleanliness                                 object\n",
              "odl_Online_Boarding                             object\n",
              "dtype: object"
            ]
          },
          "metadata": {},
          "execution_count": 53
        }
      ],
      "source": [
        "df_train.dtypes"
      ]
    },
    {
      "cell_type": "code",
      "execution_count": null,
      "metadata": {
        "id": "TX7WvDu3vQBN"
      },
      "outputs": [],
      "source": [
        "num_cols=[\"Age\",\"Travel_Distance\",\"Departure_Delay_in_Mins\",\"Arrival_Delay_in_Mins\"]"
      ]
    },
    {
      "cell_type": "code",
      "source": [
        "# cont_cols = list(df_train_f.columns)\n",
        "\n",
        "for col in num_cols:\n",
        "\n",
        "    print(col)\n",
        "    \n",
        "    print('Skew :',round(df_train[col].skew(),2))\n",
        "    \n",
        "    plt.figure(figsize = (15, 4))\n",
        "    \n",
        "    plt.subplot(1, 2, 1)\n",
        "    \n",
        "    df_train[col].hist(bins = 10, grid = False)\n",
        "    \n",
        "    plt.ylabel('count')\n",
        "    \n",
        "    plt.subplot(1, 2, 2)\n",
        "    \n",
        "    sns.boxplot(x = df_train[col])\n",
        "    \n",
        "    plt.show()"
      ],
      "metadata": {
        "colab": {
          "base_uri": "https://localhost:8080/",
          "height": 1000
        },
        "id": "03z1AZghOFl7",
        "outputId": "fe882aa6-b4fe-47b8-de5c-f99a36fc0f68"
      },
      "execution_count": null,
      "outputs": [
        {
          "output_type": "stream",
          "name": "stdout",
          "text": [
            "Age\n",
            "Skew : -0.0\n"
          ]
        },
        {
          "output_type": "display_data",
          "data": {
            "text/plain": [
              "<Figure size 1080x288 with 2 Axes>"
            ],
            "image/png": "[encoded data removed]"
          },
          "metadata": {
            "needs_background": "light"
          }
        },
        {
          "output_type": "stream",
          "name": "stdout",
          "text": [
            "Travel_Distance\n",
            "Skew : 0.47\n"
          ]
        },
        {
          "output_type": "display_data",
          "data": {
            "text/plain": [
              "<Figure size 1080x288 with 2 Axes>"
            ],
            "image/png": "[encoded data removed]"
          },
          "metadata": {
            "needs_background": "light"
          }
        },
        {
          "output_type": "stream",
          "name": "stdout",
          "text": [
            "Departure_Delay_in_Mins\n",
            "Skew : 7.16\n"
          ]
        },
        {
          "output_type": "display_data",
          "data": {
            "text/plain": [
              "<Figure size 1080x288 with 2 Axes>"
            ],
            "image/png": "[encoded data removed]"
          },
          "metadata": {
            "needs_background": "light"
          }
        },
        {
          "output_type": "stream",
          "name": "stdout",
          "text": [
            "Arrival_Delay_in_Mins\n",
            "Skew : 6.98\n"
          ]
        },
        {
          "output_type": "display_data",
          "data": {
            "text/plain": [
              "<Figure size 1080x288 with 2 Axes>"
            ],
            "image/png": "[encoded data removed]"
          },
          "metadata": {
            "needs_background": "light"
          }
        }
      ]
    },
    {
      "cell_type": "code",
      "execution_count": null,
      "metadata": {
        "id": "VDQxNb6ikRwy"
      },
      "outputs": [],
      "source": [
        "from sklearn.compose import ColumnTransformer,make_column_transformer\n",
        "from sklearn.preprocessing import LabelEncoder,OneHotEncoder,OrdinalEncoder,StandardScaler,MinMaxScaler\n",
        "from sklearn.impute import SimpleImputer\n",
        "from sklearn.pipeline import Pipeline,make_pipeline\n",
        "import numpy as np\n",
        "\n",
        "#Standardize transform the data\n",
        "num_transformer_odl = make_pipeline(\n",
        "    SimpleImputer(strategy='mean'),\n",
        "    StandardScaler()\n",
        "    #MinMaxScaler()\n",
        ")\n",
        "\n",
        "categorical_transformer_odl = make_pipeline(\n",
        "    SimpleImputer(strategy='most_frequent',missing_values=np.nan),\n",
        "    OrdinalEncoder(handle_unknown='use_encoded_value',unknown_value=np.nan)\n",
        ")\n",
        "\n",
        "categorical_transformer_ohe = make_pipeline(\n",
        "    SimpleImputer(strategy='most_frequent',missing_values=np.nan),\n",
        "    OneHotEncoder(handle_unknown='ignore')\n",
        ")\n",
        "\n",
        "preprocessor = make_column_transformer(\n",
        "    (num_transformer_odl, num_cols),\n",
        "    # (categorical_transformer_odl, cal_ord_cols)\n",
        "    # (categorical_transformer_ohe, cal_ohe_cols)\n",
        "    )\n",
        "\n",
        "\n",
        "preprocess_y=make_column_transformer(\n",
        "    (categorical_transformer_ohe, [\"Overall_Experience\"])\n",
        "    )"
      ]
    },
    {
      "cell_type": "code",
      "execution_count": null,
      "metadata": {
        "colab": {
          "base_uri": "https://localhost:8080/"
        },
        "id": "QfRCsSw4tKBP",
        "outputId": "101bbc19-3beb-48fe-ac1b-e035a32b405d"
      },
      "outputs": [
        {
          "output_type": "execute_result",
          "data": {
            "text/plain": [
              "Index(['Gender', 'Customer_Type', 'Age', 'Type_Travel', 'Travel_Class',\n",
              "       'Travel_Distance', 'Departure_Delay_in_Mins', 'Arrival_Delay_in_Mins',\n",
              "       'Seat_Comfort', 'Seat_Class', 'Arrival_Time_Convenient', 'Catering',\n",
              "       'Platform_Location', 'Onboard_Wifi_Service', 'Onboard_Entertainment',\n",
              "       'Online_Support', 'Ease_of_Online_Booking', 'Onboard_Service',\n",
              "       'Legroom', 'Baggage_Handling', 'CheckIn_Service', 'Cleanliness',\n",
              "       'Online_Boarding', 'Gender_missing_values_flag',\n",
              "       'Customer_Type_missing_values_flag', 'Age_missing_values_flag',\n",
              "       'Type_Travel_missing_values_flag',\n",
              "       'Departure_Delay_in_Mins_missing_values_flag',\n",
              "       'Arrival_Delay_in_Mins_missing_values_flag',\n",
              "       'Seat_Comfort_missing_values_flag',\n",
              "       'Arrival_Time_Convenient_missing_values_flag',\n",
              "       'Catering_missing_values_flag', 'Platform_Location_missing_values_flag',\n",
              "       'Onboard_Wifi_Service_missing_values_flag',\n",
              "       'Onboard_Entertainment_missing_values_flag',\n",
              "       'Online_Support_missing_values_flag',\n",
              "       'Ease_of_Online_Booking_missing_values_flag',\n",
              "       'Onboard_Service_missing_values_flag', 'Legroom_missing_values_flag',\n",
              "       'Baggage_Handling_missing_values_flag',\n",
              "       'CheckIn_Service_missing_values_flag',\n",
              "       'Cleanliness_missing_values_flag',\n",
              "       'Online_Boarding_missing_values_flag', 'odl_Seat_Comfort',\n",
              "       'odl_Arrival_Time_Convenient', 'odl_Catering',\n",
              "       'odl_Onboard_Wifi_Service', 'odl_Onboard_Entertainment',\n",
              "       'odl_Online_Support', 'odl_Ease_of_Online_Booking',\n",
              "       'odl_Onboard_Service', 'odl_Legroom', 'odl_Baggage_Handling',\n",
              "       'odl_CheckIn_Service', 'odl_Cleanliness', 'odl_Online_Boarding'],\n",
              "      dtype='object')"
            ]
          },
          "metadata": {},
          "execution_count": 57
        }
      ],
      "source": [
        "df_train_f=df_train.drop(columns=[\"Overall_Experience\"],axis=1)\n",
        "df_train_f.columns"
      ]
    },
    {
      "cell_type": "code",
      "source": [
        "num_cols=['Age',\n",
        " 'Travel_Distance',\n",
        " 'Departure_Delay_in_Mins',\n",
        " 'Arrival_Delay_in_Mins'\n",
        " ]"
      ],
      "metadata": {
        "id": "p8CvJxk3FVXI"
      },
      "execution_count": null,
      "outputs": []
    },
    {
      "cell_type": "code",
      "execution_count": null,
      "metadata": {
        "id": "VqN-o95C-2up"
      },
      "outputs": [],
      "source": [
        "# le = LabelEncoder()\n",
        "# df_train_f[cal_ohe_cols] = df_train_f[cal_ohe_cols].apply(lambda col: le.fit_transform(col))\n",
        "df_train_f = pd.get_dummies(df_train_f, columns = cal_ohe_cols)"
      ]
    },
    {
      "cell_type": "code",
      "execution_count": null,
      "metadata": {
        "id": "9vYwVOtflFon"
      },
      "outputs": [],
      "source": [
        "df_train_f[num_cols]=preprocessor.fit_transform(df_train_f)"
      ]
    },
    {
      "cell_type": "code",
      "execution_count": null,
      "metadata": {
        "colab": {
          "base_uri": "https://localhost:8080/"
        },
        "id": "bl1c45lk70Tj",
        "outputId": "3f71b060-a204-44b1-f8ba-a2adaea1ed3b"
      },
      "outputs": [
        {
          "output_type": "execute_result",
          "data": {
            "text/plain": [
              "(94379, 61)"
            ]
          },
          "metadata": {},
          "execution_count": 61
        }
      ],
      "source": [
        "df_train_f.shape"
      ]
    },
    {
      "cell_type": "code",
      "execution_count": null,
      "metadata": {
        "colab": {
          "base_uri": "https://localhost:8080/"
        },
        "id": "bMt7qGuf_8Q9",
        "outputId": "0083a6f4-318f-4fa8-86f4-597ff110f608"
      },
      "outputs": [
        {
          "output_type": "execute_result",
          "data": {
            "text/plain": [
              "Index(['Age', 'Travel_Distance', 'Departure_Delay_in_Mins',\n",
              "       'Arrival_Delay_in_Mins', 'Seat_Comfort', 'Arrival_Time_Convenient',\n",
              "       'Catering', 'Platform_Location', 'Onboard_Wifi_Service',\n",
              "       'Onboard_Entertainment', 'Online_Support', 'Ease_of_Online_Booking',\n",
              "       'Onboard_Service', 'Legroom', 'Baggage_Handling', 'CheckIn_Service',\n",
              "       'Cleanliness', 'Online_Boarding', 'Gender_missing_values_flag',\n",
              "       'Customer_Type_missing_values_flag', 'Age_missing_values_flag',\n",
              "       'Type_Travel_missing_values_flag',\n",
              "       'Departure_Delay_in_Mins_missing_values_flag',\n",
              "       'Arrival_Delay_in_Mins_missing_values_flag',\n",
              "       'Seat_Comfort_missing_values_flag',\n",
              "       'Arrival_Time_Convenient_missing_values_flag',\n",
              "       'Catering_missing_values_flag', 'Platform_Location_missing_values_flag',\n",
              "       'Onboard_Wifi_Service_missing_values_flag',\n",
              "       'Onboard_Entertainment_missing_values_flag',\n",
              "       'Online_Support_missing_values_flag',\n",
              "       'Ease_of_Online_Booking_missing_values_flag',\n",
              "       'Onboard_Service_missing_values_flag', 'Legroom_missing_values_flag',\n",
              "       'Baggage_Handling_missing_values_flag',\n",
              "       'CheckIn_Service_missing_values_flag',\n",
              "       'Cleanliness_missing_values_flag',\n",
              "       'Online_Boarding_missing_values_flag', 'odl_Seat_Comfort',\n",
              "       'odl_Arrival_Time_Convenient', 'odl_Catering',\n",
              "       'odl_Onboard_Wifi_Service', 'odl_Onboard_Entertainment',\n",
              "       'odl_Online_Support', 'odl_Ease_of_Online_Booking',\n",
              "       'odl_Onboard_Service', 'odl_Legroom', 'odl_Baggage_Handling',\n",
              "       'odl_CheckIn_Service', 'odl_Cleanliness', 'odl_Online_Boarding',\n",
              "       'Gender_Female', 'Gender_Male', 'Customer_Type_Disloyal Customer',\n",
              "       'Customer_Type_Loyal Customer', 'Type_Travel_Business Travel',\n",
              "       'Type_Travel_Personal Travel', 'Travel_Class_Business',\n",
              "       'Travel_Class_Eco', 'Seat_Class_Green Car', 'Seat_Class_Ordinary'],\n",
              "      dtype='object')"
            ]
          },
          "metadata": {},
          "execution_count": 62
        }
      ],
      "source": [
        "df_train_f.columns"
      ]
    },
    {
      "cell_type": "code",
      "execution_count": null,
      "metadata": {
        "id": "o6p370hy3KB7"
      },
      "outputs": [],
      "source": [
        "y_train=df_train[\"Overall_Experience\"]"
      ]
    },
    {
      "cell_type": "code",
      "execution_count": null,
      "metadata": {
        "colab": {
          "base_uri": "https://localhost:8080/"
        },
        "id": "QkIr1TSs3lUH",
        "outputId": "8d687cae-f287-47b8-be19-6b3e9249458d"
      },
      "outputs": [
        {
          "output_type": "execute_result",
          "data": {
            "text/plain": [
              "(94379,)"
            ]
          },
          "metadata": {},
          "execution_count": 64
        }
      ],
      "source": [
        "y_train.shape"
      ]
    },
    {
      "cell_type": "code",
      "execution_count": null,
      "metadata": {
        "colab": {
          "base_uri": "https://localhost:8080/"
        },
        "id": "xAvcUClE3xCa",
        "outputId": "0b7651ce-8e7d-403b-8a70-91eecf929955"
      },
      "outputs": [
        {
          "output_type": "execute_result",
          "data": {
            "text/plain": [
              "Gender                                          object\n",
              "Customer_Type                                   object\n",
              "Age                                            float64\n",
              "Type_Travel                                     object\n",
              "Travel_Class                                    object\n",
              "Travel_Distance                                  int64\n",
              "Departure_Delay_in_Mins                        float64\n",
              "Arrival_Delay_in_Mins                          float64\n",
              "Seat_Comfort                                    object\n",
              "Seat_Class                                      object\n",
              "Arrival_Time_Convenient                         object\n",
              "Catering                                        object\n",
              "Platform_Location                               object\n",
              "Onboard_Wifi_Service                            object\n",
              "Onboard_Entertainment                           object\n",
              "Online_Support                                  object\n",
              "Ease_of_Online_Booking                          object\n",
              "Onboard_Service                                 object\n",
              "Legroom                                         object\n",
              "Baggage_Handling                                object\n",
              "CheckIn_Service                                 object\n",
              "Cleanliness                                     object\n",
              "Online_Boarding                                 object\n",
              "Gender_missing_values_flag                        bool\n",
              "Customer_Type_missing_values_flag                 bool\n",
              "Age_missing_values_flag                           bool\n",
              "Type_Travel_missing_values_flag                   bool\n",
              "Departure_Delay_in_Mins_missing_values_flag       bool\n",
              "Arrival_Delay_in_Mins_missing_values_flag         bool\n",
              "Seat_Comfort_missing_values_flag                  bool\n",
              "Arrival_Time_Convenient_missing_values_flag       bool\n",
              "Catering_missing_values_flag                      bool\n",
              "Platform_Location_missing_values_flag             bool\n",
              "Onboard_Wifi_Service_missing_values_flag          bool\n",
              "Onboard_Entertainment_missing_values_flag         bool\n",
              "Online_Support_missing_values_flag                bool\n",
              "Ease_of_Online_Booking_missing_values_flag        bool\n",
              "Onboard_Service_missing_values_flag               bool\n",
              "Legroom_missing_values_flag                       bool\n",
              "Baggage_Handling_missing_values_flag              bool\n",
              "CheckIn_Service_missing_values_flag               bool\n",
              "Cleanliness_missing_values_flag                   bool\n",
              "Online_Boarding_missing_values_flag               bool\n",
              "odl_Seat_Comfort                                object\n",
              "odl_Arrival_Time_Convenient                     object\n",
              "odl_Catering                                    object\n",
              "odl_Onboard_Wifi_Service                        object\n",
              "odl_Onboard_Entertainment                       object\n",
              "odl_Online_Support                              object\n",
              "odl_Ease_of_Online_Booking                      object\n",
              "odl_Onboard_Service                             object\n",
              "odl_Legroom                                     object\n",
              "odl_Baggage_Handling                            object\n",
              "odl_CheckIn_Service                             object\n",
              "odl_Cleanliness                                 object\n",
              "odl_Online_Boarding                             object\n",
              "dtype: object"
            ]
          },
          "metadata": {},
          "execution_count": 65
        }
      ],
      "source": [
        "df_test.dtypes"
      ]
    },
    {
      "cell_type": "code",
      "execution_count": null,
      "metadata": {
        "id": "W0zyYQrQBh6j"
      },
      "outputs": [],
      "source": [
        "df_test_f = pd.get_dummies(df_test, columns = cal_ohe_cols)"
      ]
    },
    {
      "cell_type": "code",
      "execution_count": null,
      "metadata": {
        "colab": {
          "base_uri": "https://localhost:8080/"
        },
        "id": "12iWAhtpBusZ",
        "outputId": "333baf26-e980-4e7e-9444-7c2f06d64127"
      },
      "outputs": [
        {
          "output_type": "execute_result",
          "data": {
            "text/plain": [
              "(35602, 61)"
            ]
          },
          "metadata": {},
          "execution_count": 67
        }
      ],
      "source": [
        "df_test_f.shape"
      ]
    },
    {
      "cell_type": "code",
      "execution_count": null,
      "metadata": {
        "id": "Eoz6vWj43UUv"
      },
      "outputs": [],
      "source": [
        "df_test_f[num_cols]=preprocessor.fit_transform(df_test_f)\n",
        "# y_test=preprocess_y.fit_transform(df_test)"
      ]
    },
    {
      "cell_type": "code",
      "execution_count": null,
      "metadata": {
        "colab": {
          "base_uri": "https://localhost:8080/",
          "height": 818
        },
        "id": "IS0Aum79Crbc",
        "outputId": "41bc7cbc-981c-4f32-b1f5-88c2d629cd09"
      },
      "outputs": [
        {
          "output_type": "display_data",
          "data": {
            "text/plain": [
              "<Figure size 1080x720 with 2 Axes>"
            ],
            "image/png": "[encoded data removed]"
          },
          "metadata": {
            "needs_background": "light"
          }
        }
      ],
      "source": [
        "plt.figure(figsize = (15, 10))\n",
        "\n",
        "sns.heatmap(df_train_f.corr(), annot = True, fmt = '0.2f')\n",
        "\n",
        "plt.show()"
      ]
    },
    {
      "cell_type": "code",
      "execution_count": null,
      "metadata": {
        "id": "eDvRMwMUDIWM"
      },
      "outputs": [],
      "source": [
        "# Drop columns with only two types of value to avoid collinearity\n",
        "df_train_f=df_train_f.drop(columns=['Arrival_Delay_in_Mins','Gender_Male','Type_Travel_Personal Travel','Travel_Class_Eco','Seat_Class_Ordinary'],axis=1)"
      ]
    },
    {
      "cell_type": "code",
      "source": [
        "df_train_f.drop(columns=cal_ord_cols,inplace=True)"
      ],
      "metadata": {
        "id": "pGTTO2vlGleL"
      },
      "execution_count": null,
      "outputs": []
    },
    {
      "cell_type": "code",
      "source": [
        "df_train_f=df_train_f.fillna(0)"
      ],
      "metadata": {
        "id": "svfZTqP9G-5f"
      },
      "execution_count": null,
      "outputs": []
    },
    {
      "cell_type": "code",
      "execution_count": null,
      "metadata": {
        "id": "IlsRPqTNEekM"
      },
      "outputs": [],
      "source": [
        "X_train,X_valid,y_train_f,y_valid_f=train_test_split(df_train_f,y_train,train_size=0.8,test_size=0.2,random_state=100)"
      ]
    },
    {
      "cell_type": "code",
      "execution_count": null,
      "metadata": {
        "colab": {
          "base_uri": "https://localhost:8080/"
        },
        "id": "B4xgORXxfzxl",
        "outputId": "072aabfc-3c1d-435a-d80e-76a843dcbcfa"
      },
      "outputs": [
        {
          "output_type": "execute_result",
          "data": {
            "text/plain": [
              "1    51593\n",
              "0    42786\n",
              "Name: Overall_Experience, dtype: int64"
            ]
          },
          "metadata": {},
          "execution_count": 74
        }
      ],
      "source": [
        "from pandas._libs.hashtable import value_count\n",
        "y_train.value_counts()"
      ]
    },
    {
      "cell_type": "code",
      "execution_count": null,
      "metadata": {
        "id": "mIdnv4n5O806"
      },
      "outputs": [],
      "source": [
        "df_test_f=df_test_f.drop(columns=['Arrival_Delay_in_Mins','Gender_Male','Type_Travel_Personal Travel','Travel_Class_Eco','Seat_Class_Ordinary'],axis=1)"
      ]
    },
    {
      "cell_type": "code",
      "source": [
        "df_test_f.drop(columns=cal_ord_cols,inplace=True)"
      ],
      "metadata": {
        "id": "oYJRJzASHQCN"
      },
      "execution_count": null,
      "outputs": []
    },
    {
      "cell_type": "code",
      "source": [
        "df_test_f=df_test_f.fillna(0)"
      ],
      "metadata": {
        "id": "XTK7cyvpHSlg"
      },
      "execution_count": null,
      "outputs": []
    },
    {
      "cell_type": "code",
      "source": [
        "df_train_f.columns"
      ],
      "metadata": {
        "colab": {
          "base_uri": "https://localhost:8080/"
        },
        "id": "xBiZ2vACJFWc",
        "outputId": "2db5c60e-7c71-49b8-98d4-cea0d397765a"
      },
      "execution_count": null,
      "outputs": [
        {
          "output_type": "execute_result",
          "data": {
            "text/plain": [
              "Index(['Age', 'Travel_Distance', 'Departure_Delay_in_Mins',\n",
              "       'Gender_missing_values_flag', 'Customer_Type_missing_values_flag',\n",
              "       'Age_missing_values_flag', 'Type_Travel_missing_values_flag',\n",
              "       'Departure_Delay_in_Mins_missing_values_flag',\n",
              "       'Arrival_Delay_in_Mins_missing_values_flag',\n",
              "       'Seat_Comfort_missing_values_flag',\n",
              "       'Arrival_Time_Convenient_missing_values_flag',\n",
              "       'Catering_missing_values_flag', 'Platform_Location_missing_values_flag',\n",
              "       'Onboard_Wifi_Service_missing_values_flag',\n",
              "       'Onboard_Entertainment_missing_values_flag',\n",
              "       'Online_Support_missing_values_flag',\n",
              "       'Ease_of_Online_Booking_missing_values_flag',\n",
              "       'Onboard_Service_missing_values_flag', 'Legroom_missing_values_flag',\n",
              "       'Baggage_Handling_missing_values_flag',\n",
              "       'CheckIn_Service_missing_values_flag',\n",
              "       'Cleanliness_missing_values_flag',\n",
              "       'Online_Boarding_missing_values_flag', 'odl_Seat_Comfort',\n",
              "       'odl_Arrival_Time_Convenient', 'odl_Catering',\n",
              "       'odl_Onboard_Wifi_Service', 'odl_Onboard_Entertainment',\n",
              "       'odl_Online_Support', 'odl_Ease_of_Online_Booking',\n",
              "       'odl_Onboard_Service', 'odl_Legroom', 'odl_Baggage_Handling',\n",
              "       'odl_CheckIn_Service', 'odl_Cleanliness', 'odl_Online_Boarding',\n",
              "       'Gender_Female', 'Customer_Type_Disloyal Customer',\n",
              "       'Customer_Type_Loyal Customer', 'Type_Travel_Business Travel',\n",
              "       'Travel_Class_Business', 'Seat_Class_Green Car'],\n",
              "      dtype='object')"
            ]
          },
          "metadata": {},
          "execution_count": 78
        }
      ]
    },
    {
      "cell_type": "code",
      "source": [
        "#Missing value flag shows if a value is missing\n",
        "df_train_f['Catering_missing_values_flag'].value_counts()"
      ],
      "metadata": {
        "colab": {
          "base_uri": "https://localhost:8080/"
        },
        "id": "5xroFgunH_nj",
        "outputId": "1f9a7a05-8abc-4e25-8280-f8a1cf0cea83"
      },
      "execution_count": null,
      "outputs": [
        {
          "output_type": "execute_result",
          "data": {
            "text/plain": [
              "False    85638\n",
              "True      8741\n",
              "Name: Catering_missing_values_flag, dtype: int64"
            ]
          },
          "metadata": {},
          "execution_count": 79
        }
      ]
    },
    {
      "cell_type": "code",
      "source": [
        "from google.colab import drive\n",
        "drive.mount('/content/drive')\n",
        "\n",
        "def ExportData(data, name):\n",
        "  data.to_csv('/content/drive/MyDrive/Hackathons/'+name)\n",
        "\n",
        "ExportData(df_train_f,\"df_train_f_missingvalue.csv\")\n",
        "ExportData(y_train,\"y_train_missingvalue.csv\")\n",
        "ExportData(df_test_f,\"df_test_f_missingvalue.csv\")"
      ],
      "metadata": {
        "colab": {
          "base_uri": "https://localhost:8080/"
        },
        "id": "D1n8vAvcFwyr",
        "outputId": "460d7d06-9c59-4463-cc05-a0c0e74638bb"
      },
      "execution_count": null,
      "outputs": [
        {
          "output_type": "stream",
          "name": "stdout",
          "text": [
            "Drive already mounted at /content/drive; to attempt to forcibly remount, call drive.mount(\"/content/drive\", force_remount=True).\n"
          ]
        }
      ]
    },
    {
      "cell_type": "markdown",
      "source": [
        "**Read the Data**"
      ],
      "metadata": {
        "id": "iho_ftpArGHg"
      }
    },
    {
      "cell_type": "code",
      "source": [
        "df_train_f = pd.read_csv(\"/content/drive/MyDrive/Hackathons/df_train_f_missingvalue.csv\",index_col='ID')\n",
        "y_train = pd.read_csv(\"/content/drive/MyDrive/Hackathons/y_train_missingvalue.csv\",index_col='ID')\n",
        "df_test_f = pd.read_csv(\"/content/drive/MyDrive/Hackathons/df_test_f_missingvalue.csv\",index_col='ID')"
      ],
      "metadata": {
        "id": "NuEf1vD0U3TK"
      },
      "execution_count": null,
      "outputs": []
    },
    {
      "cell_type": "markdown",
      "source": [
        "**Train-Test Split**"
      ],
      "metadata": {
        "id": "xOoZ43j4oJAX"
      }
    },
    {
      "cell_type": "code",
      "source": [
        "x_train,x_test,y_train,y_test = train_test_split(df_train_f,y_train,train_size=0.8,test_size=0.2,random_state=100)"
      ],
      "metadata": {
        "id": "_ra0yYxgoTNp"
      },
      "execution_count": null,
      "outputs": []
    },
    {
      "cell_type": "markdown",
      "source": [
        "**Logistic Regression**"
      ],
      "metadata": {
        "id": "kBBLumA5or56"
      }
    },
    {
      "cell_type": "code",
      "source": [
        "from sklearn.linear_model import LogisticRegression\n",
        "from sklearn import metrics\n",
        "from sklearn.metrics import confusion_matrix, classification_report,accuracy_score,precision_score,recall_score,f1_score\n",
        "\n",
        "#creating metric function \n",
        "def metrics_score(actual, predicted):\n",
        "    print(classification_report(actual, predicted))\n",
        "    cm = confusion_matrix(actual, predicted)\n",
        "    plt.figure(figsize=(8,5))\n",
        "    sns.heatmap(cm, annot=True,  fmt='.2f', xticklabels=['Not Eligible', 'Eligible'], yticklabels=['Not Eligible', 'Eligible'])\n",
        "    plt.ylabel('Actual')\n",
        "    plt.xlabel('Predicted')\n",
        "    plt.show()"
      ],
      "metadata": {
        "id": "11EE4ZVkotnt"
      },
      "execution_count": null,
      "outputs": []
    },
    {
      "cell_type": "code",
      "source": [
        "# Defining the Logistic regression model\n",
        "lr = LogisticRegression(penalty = 'none')\n",
        "\n",
        "# Fitting the model on the training data \n",
        "lr.fit(x_train, y_train)\n",
        "\n",
        "#Predict for train set\n",
        "train_pred = lr.predict(x_test)\n",
        "\n",
        "#checking the performance on the train dataset\n",
        "metrics_score(y_test, train_pred) "
      ],
      "metadata": {
        "colab": {
          "base_uri": "https://localhost:8080/",
          "height": 490
        },
        "id": "KZuNm1_OqCIo",
        "outputId": "ce41dda1-f120-4da5-802a-bac289f48ca3"
      },
      "execution_count": null,
      "outputs": [
        {
          "output_type": "stream",
          "name": "stdout",
          "text": [
            "              precision    recall  f1-score   support\n",
            "\n",
            "           0       0.82      0.81      0.81      8544\n",
            "           1       0.84      0.85      0.85     10332\n",
            "\n",
            "    accuracy                           0.83     18876\n",
            "   macro avg       0.83      0.83      0.83     18876\n",
            "weighted avg       0.83      0.83      0.83     18876\n",
            "\n"
          ]
        },
        {
          "output_type": "display_data",
          "data": {
            "text/plain": [
              "<Figure size 576x360 with 2 Axes>"
            ],
            "image/png": "[encoded data removed]"
          },
          "metadata": {
            "needs_background": "light"
          }
        }
      ]
    },
    {
      "cell_type": "code",
      "source": [
        "#l1 regularized regression\n",
        "lrl1 = LogisticRegression(penalty=\"l1\",solver=\"liblinear\")\n",
        "lrl1.fit(x_train, y_train)\n",
        "train_pred = lrl1.predict(x_test)\n",
        "\n",
        "#checking the performance on the train dataset\n",
        "metrics_score(y_test, train_pred)  "
      ],
      "metadata": {
        "colab": {
          "base_uri": "https://localhost:8080/",
          "height": 490
        },
        "id": "a4GArR4urIPR",
        "outputId": "11e4d467-0d7d-4281-a229-5cc3675fbabb"
      },
      "execution_count": null,
      "outputs": [
        {
          "output_type": "stream",
          "name": "stdout",
          "text": [
            "              precision    recall  f1-score   support\n",
            "\n",
            "           0       0.81      0.81      0.81      8544\n",
            "           1       0.84      0.85      0.85     10332\n",
            "\n",
            "    accuracy                           0.83     18876\n",
            "   macro avg       0.83      0.83      0.83     18876\n",
            "weighted avg       0.83      0.83      0.83     18876\n",
            "\n"
          ]
        },
        {
          "output_type": "display_data",
          "data": {
            "text/plain": [
              "<Figure size 576x360 with 2 Axes>"
            ],
            "image/png": "[encoded data removed]"
          },
          "metadata": {
            "needs_background": "light"
          }
        }
      ]
    },
    {
      "cell_type": "markdown",
      "source": [
        "**Random Forest**"
      ],
      "metadata": {
        "id": "5s8sPm7RYujH"
      }
    },
    {
      "cell_type": "code",
      "source": [
        "# default randomforest\n",
        "from sklearn.ensemble import RandomForestClassifier\n",
        "rf_model=RandomForestClassifier(random_state=7)\n",
        "rf_model.fit(x_train,y_train)\n",
        "y_pred=rf_model.predict(x_test)"
      ],
      "metadata": {
        "id": "yy5fGodRYxf9"
      },
      "execution_count": null,
      "outputs": []
    },
    {
      "cell_type": "code",
      "source": [
        "metrics_score(y_test, y_pred)"
      ],
      "metadata": {
        "colab": {
          "base_uri": "https://localhost:8080/",
          "height": 490
        },
        "id": "cV7nr6jLcuQu",
        "outputId": "8f2c79de-9bd9-4c99-9424-b4c93d325240"
      },
      "execution_count": null,
      "outputs": [
        {
          "output_type": "stream",
          "name": "stdout",
          "text": [
            "              precision    recall  f1-score   support\n",
            "\n",
            "           0       0.94      0.95      0.94      8544\n",
            "           1       0.96      0.95      0.95     10332\n",
            "\n",
            "    accuracy                           0.95     18876\n",
            "   macro avg       0.95      0.95      0.95     18876\n",
            "weighted avg       0.95      0.95      0.95     18876\n",
            "\n"
          ]
        },
        {
          "output_type": "display_data",
          "data": {
            "text/plain": [
              "<Figure size 576x360 with 2 Axes>"
            ],
            "image/png": "[encoded data removed]"
          },
          "metadata": {
            "needs_background": "light"
          }
        }
      ]
    },
    {
      "cell_type": "code",
      "source": [
        "accuracy_score(y_test, y_pred)"
      ],
      "metadata": {
        "colab": {
          "base_uri": "https://localhost:8080/"
        },
        "id": "eucCsxk4cWdG",
        "outputId": "7cc46884-01ff-40a0-b427-77672427b844"
      },
      "execution_count": null,
      "outputs": [
        {
          "output_type": "execute_result",
          "data": {
            "text/plain": [
              "0.9497774952320407"
            ]
          },
          "metadata": {},
          "execution_count": 116
        }
      ]
    },
    {
      "cell_type": "markdown",
      "source": [
        "**Tuned Random Forest**"
      ],
      "metadata": {
        "id": "CXtjsl1lccjK"
      }
    },
    {
      "cell_type": "code",
      "source": [
        "from sklearn.model_selection import GridSearchCV\n",
        "from sklearn import metrics\n",
        "\n",
        "#Best RF classifier\n",
        "#rf_estimator_tuned = RandomForestClassifier(criterion='entropy',class_weight = {0: 0.2, 1: 0.8},max_features = 0.4)\n",
        "rf_estimator_tuned= RandomForestClassifier(random_state=100,n_jobs=-1,n_estimators=105,criterion='entropy',min_samples_split=2,bootstrap=False,class_weight='balanced_subsample')\n",
        "\n",
        "# # Grid of parameters to choose from\n",
        "# parameters = {\"max_features\":[0.3,0.4]\n",
        "#              }\n",
        "\n",
        "# # Type of scoring used to compare parameter combinations\n",
        "# scorer = metrics.make_scorer(accuracy_score, pos_label = 1)\n",
        "\n",
        "# # Run the grid search\n",
        "# grid_obj = GridSearchCV(rf_estimator_tuned, parameters, scoring = scorer, cv = 5)\n",
        "\n",
        "# # fit the GridSearch on train dataset\n",
        "# grid_obj = grid_obj.fit(x_train, y_train)\n",
        "\n",
        "# # Set the clf to the best combination of parameters\n",
        "# rf_estimator_tuned = grid_obj.best_estimator_"
      ],
      "metadata": {
        "id": "tlDEB_lDchhD"
      },
      "execution_count": null,
      "outputs": []
    },
    {
      "cell_type": "code",
      "source": [
        "rf_estimator_tuned.fit(x_train, y_train)"
      ],
      "metadata": {
        "colab": {
          "base_uri": "https://localhost:8080/"
        },
        "id": "r7WpjLKYl1Gq",
        "outputId": "e01be1c9-a8ac-4640-fb04-9351bf095d97"
      },
      "execution_count": null,
      "outputs": [
        {
          "output_type": "execute_result",
          "data": {
            "text/plain": [
              "RandomForestClassifier(bootstrap=False, class_weight='balanced_subsample',\n",
              "                       criterion='entropy', n_estimators=105, n_jobs=-1,\n",
              "                       random_state=100)"
            ]
          },
          "metadata": {},
          "execution_count": 118
        }
      ]
    },
    {
      "cell_type": "code",
      "source": [
        "y_pred = rf_estimator_tuned.predict(x_test)\n",
        "accuracy_score(y_test, y_pred)"
      ],
      "metadata": {
        "colab": {
          "base_uri": "https://localhost:8080/"
        },
        "id": "hF1nSxiQctiW",
        "outputId": "a726e72c-fbd1-4064-e033-9855248ed35d"
      },
      "execution_count": null,
      "outputs": [
        {
          "output_type": "execute_result",
          "data": {
            "text/plain": [
              "0.9527442254714982"
            ]
          },
          "metadata": {},
          "execution_count": 119
        }
      ]
    },
    {
      "cell_type": "code",
      "source": [
        "#class_weight={0: 0.2, 1: 0.8}, criterion='entropy',max_features=0.3 - 0.953697817334181\n",
        "# RandomForestClassifier(class_weight={0: 0.2, 1: 0.8}, criterion='entropy', max_features=0.4) - 0.9546514091968638"
      ],
      "metadata": {
        "id": "SACHslycyamb"
      },
      "execution_count": null,
      "outputs": []
    },
    {
      "cell_type": "code",
      "source": [
        "#df_test_f.drop(columns=\"pred\",inplace=True)\n",
        "y_pred_test=rf_estimator_tuned.predict(df_test_f)"
      ],
      "metadata": {
        "id": "XDSpE_dcdJw9"
      },
      "execution_count": null,
      "outputs": []
    },
    {
      "cell_type": "code",
      "source": [
        "df_test_final = df_test_f.copy()\n",
        "df_test_final[\"pred\"]=y_pred_test"
      ],
      "metadata": {
        "id": "3uefqFh-dSre"
      },
      "execution_count": null,
      "outputs": []
    },
    {
      "cell_type": "code",
      "source": [
        "df_submission=df_test_final[[\"pred\"]]\n",
        "df_submission.rename(columns={\"pred\":\"Overall_Experience\"},inplace=True)"
      ],
      "metadata": {
        "id": "LbItvGXvdd-1"
      },
      "execution_count": null,
      "outputs": []
    },
    {
      "cell_type": "code",
      "source": [
        "df_submission.to_csv('submission_14.csv')"
      ],
      "metadata": {
        "id": "2Mq3SmF-d6_V"
      },
      "execution_count": null,
      "outputs": []
    }
  ],
  "metadata": {
    "colab": {
      "collapsed_sections": [],
      "machine_shape": "hm",
      "name": "hackathon_add_flag.ipynb",
      "provenance": []
    },
    "gpuClass": "standard",
    "kernelspec": {
      "display_name": "Python 3",
      "name": "python3"
    },
    "language_info": {
      "name": "python"
    },
    "accelerator": "TPU"
  },
  "nbformat": 4,
  "nbformat_minor": 0
}